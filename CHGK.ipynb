{
 "cells": [
  {
   "cell_type": "code",
   "execution_count": null,
   "metadata": {},
   "outputs": [],
   "source": [
    "import pandas as pd\n",
    "import numpy as np\n",
    "import matplotlib.pyplot as plt\n",
    "import warnings\n",
    "warnings.filterwarnings('ignore')\n",
    "from collections import OrderedDict\n",
    "\n",
    "import scipy as sp\n",
    "\n",
    "from scipy.stats import spearmanr, kendalltau\n",
    "from sklearn.exceptions import ConvergenceWarning\n",
    "import seaborn as sns\n",
    "np.set_printoptions(precision=4, suppress=True)\n",
    "\n",
    "from collections import Counter\n",
    "from tqdm import tqdm_notebook\n",
    "from itertools import chain\n",
    "from collections import defaultdict\n",
    "import os\n",
    "\n",
    "figsize = (15,8)\n",
    "legend_fontsize = 16"
   ]
  },
  {
   "cell_type": "code",
   "execution_count": null,
   "metadata": {},
   "outputs": [],
   "source": [
    "import json, pickle\n",
    "\n",
    "tournaments = pickle.load(open('chgk/tournaments.pkl', 'rb'))\n",
    "results_main = pickle.load(open('chgk/results.pkl', 'rb'))\n",
    "players = pickle.load(open('chgk/players.pkl', 'rb'))"
   ]
  },
  {
   "cell_type": "code",
   "execution_count": null,
   "metadata": {},
   "outputs": [],
   "source": [
    "results = dict(results_main)"
   ]
  },
  {
   "cell_type": "markdown",
   "metadata": {},
   "source": [
    "# Chapter 1 : data filtering\n",
    "\n",
    "1. Split data into train/test according to year (2019/2020).  \n",
    "2. Filter corrupted data: missing teams or results.  "
   ]
  },
  {
   "cell_type": "code",
   "execution_count": null,
   "metadata": {},
   "outputs": [],
   "source": [
    "train_tournaments = {k: v for k,v in tournaments.items() if v['dateStart'][:4] == '2019'}\n",
    "test_tournaments = {k: v for k,v in tournaments.items() if v['dateStart'][:4] == '2020'}\n",
    "\n",
    "print(f'Number of TRAIN tournaments: {len(train_tournaments)}')\n",
    "print(f'Number of TEST tournaments: {len(test_tournaments)}')"
   ]
  },
  {
   "cell_type": "code",
   "execution_count": null,
   "metadata": {},
   "outputs": [],
   "source": [
    "def filter_empty(tours, results):\n",
    "    to_remove = []\n",
    "    for k, v in tours.items():\n",
    "        teams = results[k]\n",
    "        if len(teams) == 0:\n",
    "            to_remove.append(k)\n",
    "        else:\n",
    "            teams_missing = []\n",
    "            teams = results[k]\n",
    "            if len(teams) <= 1: # single team game\n",
    "                to_remove.append(k)\n",
    "            else:\n",
    "                for idx, team in enumerate(teams):\n",
    "                    if team.get('mask', None) is None or len(team['mask']) == 0 or len(team['teamMembers']) == 0:\n",
    "                        teams_missing.append(idx)\n",
    "                if len(teams_missing) == len(teams): # all teams information is missing\n",
    "                    to_remove.append(k)\n",
    "                else:\n",
    "                    # (!) modifies initial data (!)\n",
    "                    results[k] = [t for idx, t in enumerate(teams) if idx not in teams_missing]\n",
    "\n",
    "    for k in to_remove:\n",
    "        del tours[k]"
   ]
  },
  {
   "cell_type": "code",
   "execution_count": null,
   "metadata": {},
   "outputs": [],
   "source": [
    "for name, tours in zip(['TRAIN', 'TEST'], [train_tournaments, test_tournaments]):\n",
    "    old_len = len(tours)\n",
    "    print(f'Filtering {name} tournaments')\n",
    "    filter_empty(tours, results)\n",
    "    print(f'Length of {name} before: {old_len}; after filtering: {len(tours)}')\n",
    "    print('---' * 4)\n",
    "\n",
    "train_keys = set(train_tournaments.keys())\n",
    "test_keys = set(test_tournaments.keys())\n",
    "\n",
    "keys = train_keys.union(test_keys)\n",
    "results = {k: results[k] for k in keys}"
   ]
  },
  {
   "cell_type": "markdown",
   "metadata": {},
   "source": [
    "## Data transformation\n",
    "\n",
    "- Team based stats  \n",
    "- Player based stats (team stat unwrapped per team player)  \n"
   ]
  },
  {
   "cell_type": "code",
   "execution_count": 7,
   "metadata": {},
   "outputs": [],
   "source": [
    "def results_to_team_stats(results):\n",
    "    team_stats = []\n",
    "    for tour_idx, result in results.items():\n",
    "        for local_idx, team in enumerate(result):\n",
    "            team_dict = team['team']\n",
    "            team_id = team_dict['id']\n",
    "            team_name = team_dict['name']\n",
    "            mask = team['mask']\n",
    "            positive = team['questionsTotal']\n",
    "            negative = len(mask) - positive\n",
    "            total = len(mask)\n",
    "            position = team['position']\n",
    "            members = []\n",
    "            for member in team['teamMembers']:\n",
    "                old_rating = member['usedRating']\n",
    "                new_rating = member['rating']\n",
    "                player_id = member['player']['id']\n",
    "                struct = (player_id, old_rating, new_rating)\n",
    "                members.append(struct)\n",
    "            team_struct = (tour_idx, team_id, team_name, mask, positive, negative, total, position, members)\n",
    "            team_stats.append(team_struct)\n",
    "    return team_stats"
   ]
  },
  {
   "cell_type": "code",
   "execution_count": 8,
   "metadata": {},
   "outputs": [],
   "source": [
    "def attach_question_levels_to_df(df, question_levels):\n",
    "    assert all(col in df.columns for col in ['mask'])\n",
    "    \n",
    "    new_cols = ['1', '2', 'rest', '1_correct', '2_correct', 'rest_correct']\n",
    "    target_levels = [1, 2, 'rest']\n",
    "    \n",
    "    new_columns = []\n",
    "    for idx, mask in df['mask'].iteritems():\n",
    "        levels = question_levels[idx]\n",
    "        \n",
    "        row = [levels[level] for level in target_levels]\n",
    "        from_until = [0]\n",
    "        for item in row:\n",
    "            new_idx = from_until[-1] + item\n",
    "            from_until.append(new_idx)\n",
    "        \n",
    "        correct_answers = []\n",
    "        for level_prev, level_next in zip(from_until[:-1], from_until[1:]):\n",
    "            correct_answer = mask[level_prev:level_next].count('1')\n",
    "            correct_answers.append(correct_answer)\n",
    "        \n",
    "        row_with_answers = row + correct_answers\n",
    "        new_columns.append(row_with_answers)\n",
    "        \n",
    "    new_columns = pd.DataFrame(new_columns, columns=new_cols, index=df.index)\n",
    "    return pd.concat([df, new_columns], axis=1)"
   ]
  },
  {
   "cell_type": "code",
   "execution_count": 9,
   "metadata": {},
   "outputs": [
    {
     "data": {
      "text/plain": [
       "{1: 12, 2: 12, 3: 12, 'rest': 12}"
      ]
     },
     "execution_count": 9,
     "metadata": {},
     "output_type": "execute_result"
    }
   ],
   "source": [
    "question_levels = defaultdict(lambda: defaultdict(lambda: 0))\n",
    "for tour in chain(train_tournaments.values(), test_tournaments.values()):\n",
    "    idx = tour['id']\n",
    "    questions = tour['questionQty']\n",
    "    for level, quantity in questions.items():\n",
    "        level = int(level)\n",
    "        question_levels[idx][level] = quantity\n",
    "        if level >= 3: # consider questions from 3rd and after level - `rest`;\n",
    "            question_levels[idx]['rest'] += quantity\n",
    "    \n",
    "    \n",
    "dict(question_levels[4772])"
   ]
  },
  {
   "cell_type": "code",
   "execution_count": 10,
   "metadata": {},
   "outputs": [],
   "source": [
    "team_stats = results_to_team_stats(results)\n",
    "columns = ['tournament_id', 'team_id', 'team_name', 'mask', 'positive', 'negative', 'total', 'position', 'members']\n",
    "teams_df = pd.DataFrame(team_stats, columns=columns)\n",
    "teams_df.index = teams_df.tournament_id"
   ]
  },
  {
   "cell_type": "code",
   "execution_count": 11,
   "metadata": {},
   "outputs": [],
   "source": [
    "teams_df = attach_question_levels_to_df(teams_df, question_levels)"
   ]
  },
  {
   "cell_type": "code",
   "execution_count": 12,
   "metadata": {},
   "outputs": [
    {
     "data": {
      "text/html": [
       "<div>\n",
       "<style scoped>\n",
       "    .dataframe tbody tr th:only-of-type {\n",
       "        vertical-align: middle;\n",
       "    }\n",
       "\n",
       "    .dataframe tbody tr th {\n",
       "        vertical-align: top;\n",
       "    }\n",
       "\n",
       "    .dataframe thead th {\n",
       "        text-align: right;\n",
       "    }\n",
       "</style>\n",
       "<table border=\"1\" class=\"dataframe\">\n",
       "  <thead>\n",
       "    <tr style=\"text-align: right;\">\n",
       "      <th></th>\n",
       "      <th>tournament_id</th>\n",
       "      <th>team_id</th>\n",
       "      <th>team_name</th>\n",
       "      <th>mask</th>\n",
       "      <th>positive</th>\n",
       "      <th>negative</th>\n",
       "      <th>total</th>\n",
       "      <th>position</th>\n",
       "      <th>members</th>\n",
       "      <th>1</th>\n",
       "      <th>2</th>\n",
       "      <th>rest</th>\n",
       "      <th>1_correct</th>\n",
       "      <th>2_correct</th>\n",
       "      <th>rest_correct</th>\n",
       "    </tr>\n",
       "    <tr>\n",
       "      <th>tournament_id</th>\n",
       "      <th></th>\n",
       "      <th></th>\n",
       "      <th></th>\n",
       "      <th></th>\n",
       "      <th></th>\n",
       "      <th></th>\n",
       "      <th></th>\n",
       "      <th></th>\n",
       "      <th></th>\n",
       "      <th></th>\n",
       "      <th></th>\n",
       "      <th></th>\n",
       "      <th></th>\n",
       "      <th></th>\n",
       "      <th></th>\n",
       "    </tr>\n",
       "  </thead>\n",
       "  <tbody>\n",
       "    <tr>\n",
       "      <th>5753</th>\n",
       "      <td>5753</td>\n",
       "      <td>48583</td>\n",
       "      <td>Цветы</td>\n",
       "      <td>111101111111111111111111111111111111</td>\n",
       "      <td>35</td>\n",
       "      <td>1</td>\n",
       "      <td>36</td>\n",
       "      <td>1.0</td>\n",
       "      <td>[(72211, 13629, 13629), (10695, 11283, 13540),...</td>\n",
       "      <td>12</td>\n",
       "      <td>12</td>\n",
       "      <td>12</td>\n",
       "      <td>11</td>\n",
       "      <td>12</td>\n",
       "      <td>12</td>\n",
       "    </tr>\n",
       "    <tr>\n",
       "      <th>5753</th>\n",
       "      <td>5753</td>\n",
       "      <td>49225</td>\n",
       "      <td>Команда Игоря Пятова</td>\n",
       "      <td>111111111111111111110111111111110111</td>\n",
       "      <td>34</td>\n",
       "      <td>2</td>\n",
       "      <td>36</td>\n",
       "      <td>2.0</td>\n",
       "      <td>[(57032, 12161, 12161), (51715, 9847, 11816), ...</td>\n",
       "      <td>12</td>\n",
       "      <td>12</td>\n",
       "      <td>12</td>\n",
       "      <td>12</td>\n",
       "      <td>11</td>\n",
       "      <td>11</td>\n",
       "    </tr>\n",
       "    <tr>\n",
       "      <th>5753</th>\n",
       "      <td>5753</td>\n",
       "      <td>4032</td>\n",
       "      <td>X-promt</td>\n",
       "      <td>111111111011111111110111111011111111</td>\n",
       "      <td>33</td>\n",
       "      <td>3</td>\n",
       "      <td>36</td>\n",
       "      <td>7.5</td>\n",
       "      <td>[(5007, 11514, 11514), (7737, 9595, 11514), (2...</td>\n",
       "      <td>12</td>\n",
       "      <td>12</td>\n",
       "      <td>12</td>\n",
       "      <td>11</td>\n",
       "      <td>11</td>\n",
       "      <td>11</td>\n",
       "    </tr>\n",
       "  </tbody>\n",
       "</table>\n",
       "</div>"
      ],
      "text/plain": [
       "               tournament_id  team_id             team_name  \\\n",
       "tournament_id                                                 \n",
       "5753                    5753    48583                 Цветы   \n",
       "5753                    5753    49225  Команда Игоря Пятова   \n",
       "5753                    5753     4032               X-promt   \n",
       "\n",
       "                                               mask  positive  negative  \\\n",
       "tournament_id                                                             \n",
       "5753           111101111111111111111111111111111111        35         1   \n",
       "5753           111111111111111111110111111111110111        34         2   \n",
       "5753           111111111011111111110111111011111111        33         3   \n",
       "\n",
       "               total  position  \\\n",
       "tournament_id                    \n",
       "5753              36       1.0   \n",
       "5753              36       2.0   \n",
       "5753              36       7.5   \n",
       "\n",
       "                                                         members   1   2  \\\n",
       "tournament_id                                                              \n",
       "5753           [(72211, 13629, 13629), (10695, 11283, 13540),...  12  12   \n",
       "5753           [(57032, 12161, 12161), (51715, 9847, 11816), ...  12  12   \n",
       "5753           [(5007, 11514, 11514), (7737, 9595, 11514), (2...  12  12   \n",
       "\n",
       "               rest  1_correct  2_correct  rest_correct  \n",
       "tournament_id                                            \n",
       "5753             12         11         12            12  \n",
       "5753             12         12         11            11  \n",
       "5753             12         11         11            11  "
      ]
     },
     "execution_count": 12,
     "metadata": {},
     "output_type": "execute_result"
    }
   ],
   "source": [
    "teams_df[teams_df.tournament_id == 5753].head(3)"
   ]
  },
  {
   "cell_type": "code",
   "execution_count": 13,
   "metadata": {},
   "outputs": [],
   "source": [
    "def team_stats_to_player_stats(df):\n",
    "    columns = ['tournament_id', 'team_id', 'mask', 'positive', 'negative',\n",
    "       'total', '1', '2', 'rest', '1_correct',\n",
    "       '2_correct', 'rest_correct', 'members', 'player_id', 'old_rating', 'new_rating']\n",
    "    \n",
    "    subdf = df[columns[:-3]].reset_index(drop=True)\n",
    "    exploded = subdf['members'].explode()\n",
    "    subdf.drop(columns=['members'], inplace=True)\n",
    "    members = pd.DataFrame(list(exploded), columns=columns[-3:], index=exploded.index)\n",
    "    \n",
    "    return members.join(subdf)"
   ]
  },
  {
   "cell_type": "code",
   "execution_count": 40,
   "metadata": {},
   "outputs": [],
   "source": [
    "participant_df = team_stats_to_player_stats(teams_df)"
   ]
  },
  {
   "cell_type": "code",
   "execution_count": 41,
   "metadata": {},
   "outputs": [
    {
     "name": "stdout",
     "output_type": "stream",
     "text": [
      "(451776, 15) (112834, 15)\n"
     ]
    }
   ],
   "source": [
    "mask = participant_df.tournament_id.isin(train_keys)\n",
    "train_participant_df = participant_df[mask]\n",
    "test_participant_df = participant_df[~mask]\n",
    "assert not train_participant_df.tournament_id.isin(test_keys).any()\n",
    "assert not test_participant_df.tournament_id.isin(train_keys).any()\n",
    "print(train_participant_df.shape, test_participant_df.shape)"
   ]
  },
  {
   "cell_type": "code",
   "execution_count": 42,
   "metadata": {},
   "outputs": [],
   "source": [
    "# no need in ratings\n",
    "train_participant_df.drop(columns=['old_rating', 'new_rating'], inplace=True)\n",
    "test_participant_df.drop(columns=['old_rating', 'new_rating'], inplace=True)"
   ]
  },
  {
   "cell_type": "code",
   "execution_count": 17,
   "metadata": {},
   "outputs": [
    {
     "data": {
      "text/html": [
       "<div>\n",
       "<style scoped>\n",
       "    .dataframe tbody tr th:only-of-type {\n",
       "        vertical-align: middle;\n",
       "    }\n",
       "\n",
       "    .dataframe tbody tr th {\n",
       "        vertical-align: top;\n",
       "    }\n",
       "\n",
       "    .dataframe thead th {\n",
       "        text-align: right;\n",
       "    }\n",
       "</style>\n",
       "<table border=\"1\" class=\"dataframe\">\n",
       "  <thead>\n",
       "    <tr style=\"text-align: right;\">\n",
       "      <th></th>\n",
       "      <th>player_id</th>\n",
       "      <th>tournament_id</th>\n",
       "      <th>team_id</th>\n",
       "      <th>mask</th>\n",
       "      <th>positive</th>\n",
       "      <th>negative</th>\n",
       "      <th>total</th>\n",
       "      <th>1</th>\n",
       "      <th>2</th>\n",
       "      <th>rest</th>\n",
       "      <th>1_correct</th>\n",
       "      <th>2_correct</th>\n",
       "      <th>rest_correct</th>\n",
       "    </tr>\n",
       "  </thead>\n",
       "  <tbody>\n",
       "    <tr>\n",
       "      <th>85932</th>\n",
       "      <td>8103</td>\n",
       "      <td>5838</td>\n",
       "      <td>575</td>\n",
       "      <td>111001000111111110100111111010011100</td>\n",
       "      <td>23</td>\n",
       "      <td>13</td>\n",
       "      <td>36</td>\n",
       "      <td>12</td>\n",
       "      <td>12</td>\n",
       "      <td>12</td>\n",
       "      <td>7</td>\n",
       "      <td>9</td>\n",
       "      <td>7</td>\n",
       "    </tr>\n",
       "    <tr>\n",
       "      <th>40221</th>\n",
       "      <td>20640</td>\n",
       "      <td>5516</td>\n",
       "      <td>3156</td>\n",
       "      <td>011110001100111111000100111000101010</td>\n",
       "      <td>19</td>\n",
       "      <td>17</td>\n",
       "      <td>36</td>\n",
       "      <td>12</td>\n",
       "      <td>12</td>\n",
       "      <td>12</td>\n",
       "      <td>6</td>\n",
       "      <td>7</td>\n",
       "      <td>6</td>\n",
       "    </tr>\n",
       "    <tr>\n",
       "      <th>70583</th>\n",
       "      <td>104732</td>\n",
       "      <td>5760</td>\n",
       "      <td>72474</td>\n",
       "      <td>1110101110000110111011000111001111011111111110...</td>\n",
       "      <td>52</td>\n",
       "      <td>20</td>\n",
       "      <td>72</td>\n",
       "      <td>36</td>\n",
       "      <td>36</td>\n",
       "      <td>72</td>\n",
       "      <td>22</td>\n",
       "      <td>30</td>\n",
       "      <td>0</td>\n",
       "    </tr>\n",
       "    <tr>\n",
       "      <th>61105</th>\n",
       "      <td>24934</td>\n",
       "      <td>5729</td>\n",
       "      <td>46319</td>\n",
       "      <td>011111111101101011101110111101010010</td>\n",
       "      <td>25</td>\n",
       "      <td>11</td>\n",
       "      <td>36</td>\n",
       "      <td>12</td>\n",
       "      <td>12</td>\n",
       "      <td>12</td>\n",
       "      <td>10</td>\n",
       "      <td>8</td>\n",
       "      <td>7</td>\n",
       "    </tr>\n",
       "    <tr>\n",
       "      <th>54273</th>\n",
       "      <td>198132</td>\n",
       "      <td>5700</td>\n",
       "      <td>71413</td>\n",
       "      <td>110001001000000010001000000000000001</td>\n",
       "      <td>7</td>\n",
       "      <td>29</td>\n",
       "      <td>36</td>\n",
       "      <td>12</td>\n",
       "      <td>12</td>\n",
       "      <td>12</td>\n",
       "      <td>4</td>\n",
       "      <td>2</td>\n",
       "      <td>1</td>\n",
       "    </tr>\n",
       "  </tbody>\n",
       "</table>\n",
       "</div>"
      ],
      "text/plain": [
       "       player_id  tournament_id  team_id  \\\n",
       "85932       8103           5838      575   \n",
       "40221      20640           5516     3156   \n",
       "70583     104732           5760    72474   \n",
       "61105      24934           5729    46319   \n",
       "54273     198132           5700    71413   \n",
       "\n",
       "                                                    mask  positive  negative  \\\n",
       "85932               111001000111111110100111111010011100        23        13   \n",
       "40221               011110001100111111000100111000101010        19        17   \n",
       "70583  1110101110000110111011000111001111011111111110...        52        20   \n",
       "61105               011111111101101011101110111101010010        25        11   \n",
       "54273               110001001000000010001000000000000001         7        29   \n",
       "\n",
       "       total   1   2  rest  1_correct  2_correct  rest_correct  \n",
       "85932     36  12  12    12          7          9             7  \n",
       "40221     36  12  12    12          6          7             6  \n",
       "70583     72  36  36    72         22         30             0  \n",
       "61105     36  12  12    12         10          8             7  \n",
       "54273     36  12  12    12          4          2             1  "
      ]
     },
     "execution_count": 17,
     "metadata": {},
     "output_type": "execute_result"
    }
   ],
   "source": [
    "train_participant_df.sample(5)"
   ]
  },
  {
   "cell_type": "markdown",
   "metadata": {},
   "source": [
    "## Tournaments and results study"
   ]
  },
  {
   "cell_type": "code",
   "execution_count": 18,
   "metadata": {},
   "outputs": [],
   "source": [
    "stats = defaultdict(lambda: 0)\n",
    "for tour in chain(train_tournaments.values(), test_tournaments.values()):\n",
    "    questions = tour['questionQty']\n",
    "    for k, v in questions.items():\n",
    "        k = int(k)\n",
    "        stats[k] += v\n",
    "        stats[f'{k}_count'] += 1\n",
    "\n",
    "n_items = len(stats) // 2\n",
    "flatten = [(stats[idx], stats[f'{idx}_count']) for idx in range(1, n_items + 1)]"
   ]
  },
  {
   "cell_type": "code",
   "execution_count": 19,
   "metadata": {},
   "outputs": [],
   "source": [
    "means = np.array(flatten)\n",
    "repeats = means[:, 1]\n",
    "means = means[:, 0] / means[:, 1]"
   ]
  },
  {
   "cell_type": "code",
   "execution_count": 20,
   "metadata": {},
   "outputs": [
    {
     "data": {
      "image/png": "[encoded data removed]",
      "text/plain": [
       "<Figure size 864x360 with 2 Axes>"
      ]
     },
     "metadata": {
      "needs_background": "light"
     },
     "output_type": "display_data"
    }
   ],
   "source": [
    "fig, axs = plt.subplots(1, 2, figsize=(12,5))\n",
    "axs[0].scatter(range(1, n_items+1), means)\n",
    "axs[0].set(xlabel='Question level')\n",
    "axs[0].set(ylabel='Number of questions')\n",
    "\n",
    "axs[1].scatter(range(1, n_items+1), repeats)\n",
    "axs[1].set(xlabel='Question level')\n",
    "axs[1].set(ylabel='Number of times it appeared')\n",
    "\n",
    "plt.show()"
   ]
  },
  {
   "cell_type": "code",
   "execution_count": 21,
   "metadata": {},
   "outputs": [],
   "source": [
    "del means\n",
    "del repeats\n",
    "del flatten"
   ]
  },
  {
   "cell_type": "code",
   "execution_count": 23,
   "metadata": {},
   "outputs": [
    {
     "data": {
      "text/html": [
       "<div>\n",
       "<style scoped>\n",
       "    .dataframe tbody tr th:only-of-type {\n",
       "        vertical-align: middle;\n",
       "    }\n",
       "\n",
       "    .dataframe tbody tr th {\n",
       "        vertical-align: top;\n",
       "    }\n",
       "\n",
       "    .dataframe thead tr th {\n",
       "        text-align: left;\n",
       "    }\n",
       "\n",
       "    .dataframe thead tr:last-of-type th {\n",
       "        text-align: right;\n",
       "    }\n",
       "</style>\n",
       "<table border=\"1\" class=\"dataframe\">\n",
       "  <thead>\n",
       "    <tr>\n",
       "      <th></th>\n",
       "      <th colspan=\"3\" halign=\"left\">position</th>\n",
       "    </tr>\n",
       "    <tr>\n",
       "      <th></th>\n",
       "      <th>min</th>\n",
       "      <th>max</th>\n",
       "      <th>count</th>\n",
       "    </tr>\n",
       "    <tr>\n",
       "      <th>team_name</th>\n",
       "      <th></th>\n",
       "      <th></th>\n",
       "      <th></th>\n",
       "    </tr>\n",
       "  </thead>\n",
       "  <tbody>\n",
       "    <tr>\n",
       "      <th>МГТУ - Легионеры</th>\n",
       "      <td>1.0</td>\n",
       "      <td>729.5</td>\n",
       "      <td>305</td>\n",
       "    </tr>\n",
       "    <tr>\n",
       "      <th>Губы Дзюбы</th>\n",
       "      <td>1.0</td>\n",
       "      <td>727.0</td>\n",
       "      <td>255</td>\n",
       "    </tr>\n",
       "    <tr>\n",
       "      <th>Чефирный эксперимент</th>\n",
       "      <td>1.5</td>\n",
       "      <td>603.0</td>\n",
       "      <td>216</td>\n",
       "    </tr>\n",
       "    <tr>\n",
       "      <th>Кондуктор понимает</th>\n",
       "      <td>2.0</td>\n",
       "      <td>353.5</td>\n",
       "      <td>189</td>\n",
       "    </tr>\n",
       "    <tr>\n",
       "      <th>Кудрявчик и Вахривка</th>\n",
       "      <td>1.0</td>\n",
       "      <td>637.5</td>\n",
       "      <td>186</td>\n",
       "    </tr>\n",
       "    <tr>\n",
       "      <th>...</th>\n",
       "      <td>...</td>\n",
       "      <td>...</td>\n",
       "      <td>...</td>\n",
       "    </tr>\n",
       "    <tr>\n",
       "      <th>Поза з Аликом</th>\n",
       "      <td>58.5</td>\n",
       "      <td>58.5</td>\n",
       "      <td>1</td>\n",
       "    </tr>\n",
       "    <tr>\n",
       "      <th>Поза Люксембург</th>\n",
       "      <td>48.0</td>\n",
       "      <td>48.0</td>\n",
       "      <td>1</td>\n",
       "    </tr>\n",
       "    <tr>\n",
       "      <th>Дядя Дима</th>\n",
       "      <td>479.0</td>\n",
       "      <td>479.0</td>\n",
       "      <td>1</td>\n",
       "    </tr>\n",
       "    <tr>\n",
       "      <th>Дятлы</th>\n",
       "      <td>185.5</td>\n",
       "      <td>185.5</td>\n",
       "      <td>1</td>\n",
       "    </tr>\n",
       "    <tr>\n",
       "      <th>Лисы Арктики</th>\n",
       "      <td>60.0</td>\n",
       "      <td>60.0</td>\n",
       "      <td>1</td>\n",
       "    </tr>\n",
       "  </tbody>\n",
       "</table>\n",
       "<p>11984 rows × 3 columns</p>\n",
       "</div>"
      ],
      "text/plain": [
       "                     position             \n",
       "                          min    max count\n",
       "team_name                                 \n",
       "МГТУ - Легионеры          1.0  729.5   305\n",
       "Губы Дзюбы                1.0  727.0   255\n",
       "Чефирный эксперимент      1.5  603.0   216\n",
       "Кондуктор понимает        2.0  353.5   189\n",
       "Кудрявчик и Вахривка      1.0  637.5   186\n",
       "...                       ...    ...   ...\n",
       "Поза з Аликом            58.5   58.5     1\n",
       "Поза Люксембург          48.0   48.0     1\n",
       "Дядя Дима               479.0  479.0     1\n",
       "Дятлы                   185.5  185.5     1\n",
       "Лисы Арктики             60.0   60.0     1\n",
       "\n",
       "[11984 rows x 3 columns]"
      ]
     },
     "execution_count": 23,
     "metadata": {},
     "output_type": "execute_result"
    }
   ],
   "source": [
    "teams_df[['team_name', 'position']] \\\n",
    "            .groupby('team_name').agg(['min', 'max', 'count']) \\\n",
    "            .sort_values(by=('position', 'count'), ascending=False)\n",
    "            "
   ]
  },
  {
   "cell_type": "markdown",
   "metadata": {},
   "source": [
    "# Chapter 2 & 3: baseline model"
   ]
  },
  {
   "cell_type": "markdown",
   "metadata": {},
   "source": [
    "## Baseline №1. Player ranking\n",
    "\n",
    "### Idea №1.  \n",
    "\n",
    "1. For each player, collect statistics about his/her performance per question level.   \n",
    "2. The statistics per question are taken from team results per tournament, it is expanded for each participant of a team. As long as we apply it for every player in every team in every tournament, it is okay.    \n",
    "3. For the purpose of simplicity questions are divided into 3 levels: 1st, 2nd, and 3rd+ (3rd, 4th, etc.).  \n",
    "4. Average over all tournaments the probabilities of each player and receive a vector of gains `(power1, power2, power3)`. It does not take into account the difficulty of concrete tournament, the `number of players` in a team, the `number of tournaments` a player participated in. The normalization will be done via 2 terms stated earlier.    \n",
    "\n",
    "### Idea №2.  \n",
    "\n",
    "Continue the previous idea with focus on 4th step: another normalization technique will be involved for averaging (weighted (?)).  \n",
    "\n",
    "\n",
    "### Team ranking\n",
    "\n",
    "Taking the vector of gains from `player rankings`, we may end up with a team vector gains (simple sum or average).  "
   ]
  },
  {
   "cell_type": "code",
   "execution_count": 25,
   "metadata": {},
   "outputs": [
    {
     "data": {
      "text/html": [
       "<div>\n",
       "<style scoped>\n",
       "    .dataframe tbody tr th:only-of-type {\n",
       "        vertical-align: middle;\n",
       "    }\n",
       "\n",
       "    .dataframe tbody tr th {\n",
       "        vertical-align: top;\n",
       "    }\n",
       "\n",
       "    .dataframe thead th {\n",
       "        text-align: right;\n",
       "    }\n",
       "</style>\n",
       "<table border=\"1\" class=\"dataframe\">\n",
       "  <thead>\n",
       "    <tr style=\"text-align: right;\">\n",
       "      <th></th>\n",
       "      <th>player_id</th>\n",
       "      <th>tournament_id</th>\n",
       "      <th>team_id</th>\n",
       "      <th>mask</th>\n",
       "      <th>positive</th>\n",
       "      <th>negative</th>\n",
       "      <th>total</th>\n",
       "      <th>1</th>\n",
       "      <th>2</th>\n",
       "      <th>rest</th>\n",
       "      <th>1_correct</th>\n",
       "      <th>2_correct</th>\n",
       "      <th>rest_correct</th>\n",
       "    </tr>\n",
       "  </thead>\n",
       "  <tbody>\n",
       "    <tr>\n",
       "      <th>5015</th>\n",
       "      <td>215460</td>\n",
       "      <td>6249</td>\n",
       "      <td>76543</td>\n",
       "      <td>100000000100010100000010000100000000</td>\n",
       "      <td>6</td>\n",
       "      <td>30</td>\n",
       "      <td>36</td>\n",
       "      <td>36</td>\n",
       "      <td>36</td>\n",
       "      <td>180</td>\n",
       "      <td>6</td>\n",
       "      <td>0</td>\n",
       "      <td>0</td>\n",
       "    </tr>\n",
       "    <tr>\n",
       "      <th>45265</th>\n",
       "      <td>18112</td>\n",
       "      <td>5572</td>\n",
       "      <td>37782</td>\n",
       "      <td>01X0110001011100110111100X0011110111111110</td>\n",
       "      <td>25</td>\n",
       "      <td>17</td>\n",
       "      <td>42</td>\n",
       "      <td>14</td>\n",
       "      <td>14</td>\n",
       "      <td>14</td>\n",
       "      <td>7</td>\n",
       "      <td>6</td>\n",
       "      <td>12</td>\n",
       "    </tr>\n",
       "    <tr>\n",
       "      <th>80877</th>\n",
       "      <td>141526</td>\n",
       "      <td>5819</td>\n",
       "      <td>60247</td>\n",
       "      <td>1111001101110010010000110X0000000001</td>\n",
       "      <td>14</td>\n",
       "      <td>22</td>\n",
       "      <td>36</td>\n",
       "      <td>12</td>\n",
       "      <td>12</td>\n",
       "      <td>12</td>\n",
       "      <td>9</td>\n",
       "      <td>4</td>\n",
       "      <td>1</td>\n",
       "    </tr>\n",
       "  </tbody>\n",
       "</table>\n",
       "</div>"
      ],
      "text/plain": [
       "       player_id  tournament_id  team_id  \\\n",
       "5015      215460           6249    76543   \n",
       "45265      18112           5572    37782   \n",
       "80877     141526           5819    60247   \n",
       "\n",
       "                                             mask  positive  negative  total  \\\n",
       "5015         100000000100010100000010000100000000         6        30     36   \n",
       "45265  01X0110001011100110111100X0011110111111110        25        17     42   \n",
       "80877        1111001101110010010000110X0000000001        14        22     36   \n",
       "\n",
       "        1   2  rest  1_correct  2_correct  rest_correct  \n",
       "5015   36  36   180          6          0             0  \n",
       "45265  14  14    14          7          6            12  \n",
       "80877  12  12    12          9          4             1  "
      ]
     },
     "execution_count": 25,
     "metadata": {},
     "output_type": "execute_result"
    }
   ],
   "source": [
    "train_participant_df.sample(3)"
   ]
  },
  {
   "cell_type": "code",
   "execution_count": 26,
   "metadata": {},
   "outputs": [],
   "source": [
    "def group_probabilities(group, cols=['prob', '1_prob', '2_prob', 'rest_prob', 'games', 'total_positive', 'total_questions']):\n",
    "    total_positive = group['positive'].sum()\n",
    "    total_questions = group['total'].sum()\n",
    "    correct_prob = total_positive / total_questions\n",
    "    correct_1_prob = group['1_correct'].sum() / group['1'].sum()\n",
    "    correct_2_prob = group['2_correct'].sum() / group['2'].sum()    \n",
    "    correct_rest_prob = group['rest_correct'].sum() / group['rest'].sum()  \n",
    "    games = len(group)\n",
    "    row = [correct_prob, correct_1_prob, correct_2_prob, correct_rest_prob, games, total_positive, total_questions]\n",
    "    \n",
    "    return pd.Series(row, index=cols)"
   ]
  },
  {
   "cell_type": "code",
   "execution_count": 27,
   "metadata": {},
   "outputs": [
    {
     "data": {
      "text/html": [
       "<div>\n",
       "<style scoped>\n",
       "    .dataframe tbody tr th:only-of-type {\n",
       "        vertical-align: middle;\n",
       "    }\n",
       "\n",
       "    .dataframe tbody tr th {\n",
       "        vertical-align: top;\n",
       "    }\n",
       "\n",
       "    .dataframe thead th {\n",
       "        text-align: right;\n",
       "    }\n",
       "</style>\n",
       "<table border=\"1\" class=\"dataframe\">\n",
       "  <thead>\n",
       "    <tr style=\"text-align: right;\">\n",
       "      <th></th>\n",
       "      <th>prob</th>\n",
       "      <th>1_prob</th>\n",
       "      <th>2_prob</th>\n",
       "      <th>rest_prob</th>\n",
       "      <th>games</th>\n",
       "      <th>total_positive</th>\n",
       "      <th>total_questions</th>\n",
       "    </tr>\n",
       "  </thead>\n",
       "  <tbody>\n",
       "    <tr>\n",
       "      <th>count</th>\n",
       "      <td>59101.000000</td>\n",
       "      <td>59101.000000</td>\n",
       "      <td>59101.000000</td>\n",
       "      <td>58791.000000</td>\n",
       "      <td>59101.000000</td>\n",
       "      <td>59101.000000</td>\n",
       "      <td>59101.000000</td>\n",
       "    </tr>\n",
       "    <tr>\n",
       "      <th>mean</th>\n",
       "      <td>0.337794</td>\n",
       "      <td>0.361653</td>\n",
       "      <td>0.297358</td>\n",
       "      <td>0.260472</td>\n",
       "      <td>7.644135</td>\n",
       "      <td>153.797076</td>\n",
       "      <td>355.561073</td>\n",
       "    </tr>\n",
       "    <tr>\n",
       "      <th>std</th>\n",
       "      <td>0.161992</td>\n",
       "      <td>0.178223</td>\n",
       "      <td>0.179150</td>\n",
       "      <td>0.182968</td>\n",
       "      <td>14.614473</td>\n",
       "      <td>339.306396</td>\n",
       "      <td>644.405209</td>\n",
       "    </tr>\n",
       "    <tr>\n",
       "      <th>min</th>\n",
       "      <td>0.000000</td>\n",
       "      <td>0.000000</td>\n",
       "      <td>0.000000</td>\n",
       "      <td>0.000000</td>\n",
       "      <td>1.000000</td>\n",
       "      <td>0.000000</td>\n",
       "      <td>24.000000</td>\n",
       "    </tr>\n",
       "    <tr>\n",
       "      <th>25%</th>\n",
       "      <td>0.216667</td>\n",
       "      <td>0.240000</td>\n",
       "      <td>0.166667</td>\n",
       "      <td>0.111111</td>\n",
       "      <td>1.000000</td>\n",
       "      <td>13.000000</td>\n",
       "      <td>36.000000</td>\n",
       "    </tr>\n",
       "    <tr>\n",
       "      <th>50%</th>\n",
       "      <td>0.333333</td>\n",
       "      <td>0.361111</td>\n",
       "      <td>0.294872</td>\n",
       "      <td>0.250000</td>\n",
       "      <td>2.000000</td>\n",
       "      <td>34.000000</td>\n",
       "      <td>108.000000</td>\n",
       "    </tr>\n",
       "    <tr>\n",
       "      <th>75%</th>\n",
       "      <td>0.456853</td>\n",
       "      <td>0.500000</td>\n",
       "      <td>0.416667</td>\n",
       "      <td>0.380952</td>\n",
       "      <td>6.000000</td>\n",
       "      <td>124.000000</td>\n",
       "      <td>324.000000</td>\n",
       "    </tr>\n",
       "    <tr>\n",
       "      <th>max</th>\n",
       "      <td>0.972222</td>\n",
       "      <td>1.000000</td>\n",
       "      <td>1.000000</td>\n",
       "      <td>1.000000</td>\n",
       "      <td>227.000000</td>\n",
       "      <td>5742.000000</td>\n",
       "      <td>9195.000000</td>\n",
       "    </tr>\n",
       "  </tbody>\n",
       "</table>\n",
       "</div>"
      ],
      "text/plain": [
       "               prob        1_prob        2_prob     rest_prob         games  \\\n",
       "count  59101.000000  59101.000000  59101.000000  58791.000000  59101.000000   \n",
       "mean       0.337794      0.361653      0.297358      0.260472      7.644135   \n",
       "std        0.161992      0.178223      0.179150      0.182968     14.614473   \n",
       "min        0.000000      0.000000      0.000000      0.000000      1.000000   \n",
       "25%        0.216667      0.240000      0.166667      0.111111      1.000000   \n",
       "50%        0.333333      0.361111      0.294872      0.250000      2.000000   \n",
       "75%        0.456853      0.500000      0.416667      0.380952      6.000000   \n",
       "max        0.972222      1.000000      1.000000      1.000000    227.000000   \n",
       "\n",
       "       total_positive  total_questions  \n",
       "count    59101.000000     59101.000000  \n",
       "mean       153.797076       355.561073  \n",
       "std        339.306396       644.405209  \n",
       "min          0.000000        24.000000  \n",
       "25%         13.000000        36.000000  \n",
       "50%         34.000000       108.000000  \n",
       "75%        124.000000       324.000000  \n",
       "max       5742.000000      9195.000000  "
      ]
     },
     "execution_count": 27,
     "metadata": {},
     "output_type": "execute_result"
    }
   ],
   "source": [
    "players_probabilities = train_participant_df.groupby('player_id').apply(group_probabilities)\n",
    "players_probabilities.describe()"
   ]
  },
  {
   "cell_type": "code",
   "execution_count": 28,
   "metadata": {},
   "outputs": [],
   "source": [
    "from collections import namedtuple\n",
    "Team = namedtuple('Team', ['team_id', 'position', 'player_ids'])\n",
    "\n",
    "def get_tournament_orders(df):\n",
    "    tournament_teams = defaultdict(lambda: defaultdict(dict))\n",
    "    assert all(col in df.columns for col in ['tournament_id', 'team_id', 'members', 'position'])\n",
    "\n",
    "    for tournament_id, team_id, members, position in df[['tournament_id', 'team_id', 'members', 'position']].itertuples(index=None, name=None):\n",
    "        player_ids = [member[0] for member in members]\n",
    "        team = Team(team_id, position, player_ids)\n",
    "        tournament_teams[tournament_id]['teams'][team_id] = team\n",
    "\n",
    "    for v in tournament_teams.values():\n",
    "        positions = []\n",
    "        for team in v['teams'].values():\n",
    "            pair = team.team_id, team.position\n",
    "            positions.append(pair)\n",
    "        positions.sort(key=lambda x: x[1])\n",
    "        order, positions = list(zip(*positions))\n",
    "        v['order'] = order\n",
    "        v['position'] = positions\n",
    "    return tournament_teams"
   ]
  },
  {
   "cell_type": "code",
   "execution_count": 29,
   "metadata": {},
   "outputs": [
    {
     "name": "stdout",
     "output_type": "stream",
     "text": [
      "Top 10 teams of tournament 4722 (45556, 1030, 4252, 5444, 40931, 47075, 53185, 58596, 68786, 1903)\n",
      "Player ids of team 45556 [6212, 18332, 18036, 22799, 15456, 26089]\n"
     ]
    }
   ],
   "source": [
    "tournament_teams = get_tournament_orders(teams_df)\n",
    "print('Top 10 teams of tournament 4722', tournament_teams[4772]['order'][:10])\n",
    "print('Player ids of team 45556', tournament_teams[4772]['teams'][45556].player_ids)"
   ]
  },
  {
   "cell_type": "code",
   "execution_count": 30,
   "metadata": {},
   "outputs": [],
   "source": [
    "mean_vector = None\n",
    "def get_team_matrix(indices):\n",
    "    indices = pd.Series(indices)\n",
    "    mask = indices.isin(players_probabilities.index)\n",
    "    global mean_vector\n",
    "    if mean_vector is None:\n",
    "        mean_vector = players_probabilities[['prob', '1_prob', '2_prob', 'rest_prob', 'games']].mean(axis=0).values\n",
    "    \n",
    "    # ['1_prob', '2_prob', 'rest_prob', 'games']\n",
    "    player_vectors = np.zeros((len(indices), 5), dtype=np.float32)\n",
    "    player_vectors[mask] = players_probabilities.loc[indices[mask], ['prob', '1_prob', '2_prob', 'rest_prob', 'games']].values\n",
    "    player_vectors[~mask] = mean_vector\n",
    "    \n",
    "    return player_vectors # [N, 5]\n",
    "\n",
    "def simple_averaging_policy(indices):\n",
    "    matrix = get_team_matrix(indices)[:, 1:4] # [N, 3]\n",
    "    vector = matrix.mean(axis=0) # [3]\n",
    "    return vector\n",
    "\n",
    "def simple_max_policy(indices):\n",
    "    matrix = get_team_matrix(indices)[:, 1:4] # [N, 3]\n",
    "    vector = matrix.max(axis=0) # [3]\n",
    "    return vector\n",
    "\n",
    "def simple_vector_to_number(vector):\n",
    "    weights = np.array([1.0, 1.0, 1.0])\n",
    "    return vector.dot(weights)\n",
    "\n",
    "def avg_prob_policy(indices):\n",
    "    matrix = get_team_matrix(indices)[:, 0] # 'prob' only\n",
    "    return matrix\n",
    "\n",
    "def avg_vector(vector):\n",
    "    return vector.mean()\n",
    "\n",
    "def estimate_tournament(tournament_id, matrix_policy, vector_policy):\n",
    "    teams_initial_order = tournament_teams[tournament_id]['order']\n",
    "    team_players = [tournament_teams[tournament_id]['teams'][id].player_ids for id in teams_initial_order]\n",
    "    team_vectors = [matrix_policy(ids) for ids in team_players]\n",
    "    team_scores = [vector_policy(vector) for vector in team_vectors]\n",
    "    \n",
    "#     new_order = sorted(list(zip(teams_initial_order, team_scores)), key=lambda x: x[1], reverse=True)\n",
    "#     new_order, team_scores = list(zip(*new_order))\n",
    "    \n",
    "    return np.array(team_scores)\n",
    "    \n",
    "def estimate_tournaments(tournament_ids, matrix_policy, vector_policy):\n",
    "    correlations = []\n",
    "    for tour_id in tqdm_notebook(tournament_ids, total=len(tournament_ids)):\n",
    "        team_scores = estimate_tournament(tour_id, matrix_policy, vector_policy)\n",
    "#         positions = tournament_teams[tour_id]['position']\n",
    "        real_ranks = range(len(team_scores))\n",
    "        corrs = get_correlations(real_ranks, team_scores)\n",
    "        correlations.append(corrs)\n",
    "    correlations = np.array(correlations)\n",
    "    return correlations.mean(axis=0)\n",
    "\n",
    "def get_correlations(expected, found):\n",
    "    sp = spearmanr(expected, found).correlation\n",
    "    kd = kendalltau(expected, found).correlation\n",
    "    return sp, kd"
   ]
  },
  {
   "cell_type": "code",
   "execution_count": 31,
   "metadata": {},
   "outputs": [
    {
     "name": "stdout",
     "output_type": "stream",
     "text": [
      "[0.762  0.5828]\n"
     ]
    }
   ],
   "source": [
    "# Select an example tournament and show how it works\n",
    "team_scores = estimate_tournament(4772, simple_averaging_policy, simple_vector_to_number)\n",
    "print(np.abs(get_correlations(tournament_teams[4772]['position'], team_scores)))\n",
    "del team_scores"
   ]
  },
  {
   "cell_type": "markdown",
   "metadata": {},
   "source": [
    "### Statistically-based only correlations\n",
    "\n",
    "No insides about player skills, question and tournaments toughness"
   ]
  },
  {
   "cell_type": "code",
   "execution_count": 32,
   "metadata": {},
   "outputs": [
    {
     "data": {
      "application/vnd.jupyter.widget-view+json": {
       "model_id": "0ebbc3e9b39b4a55ba3c57bdbaaeae81",
       "version_major": 2,
       "version_minor": 0
      },
      "text/plain": [
       "HBox(children=(FloatProgress(value=0.0, max=172.0), HTML(value='')))"
      ]
     },
     "metadata": {},
     "output_type": "display_data"
    },
    {
     "name": "stdout",
     "output_type": "stream",
     "text": [
      "\n",
      "TEST Spearmen and Kendall correlations [0.696  0.5289]\n"
     ]
    }
   ],
   "source": [
    "# train_correlations = estimate_tournaments(train_keys, avg_prob_policy, avg_vector)\n",
    "# print('TRAIN Spearmen and Kendall correlations', np.abs(train_correlations))\n",
    "\n",
    "test_correlations = estimate_tournaments(test_keys, avg_prob_policy, avg_vector)\n",
    "print('TEST Spearmen and Kendall correlations', np.abs(test_correlations))"
   ]
  },
  {
   "cell_type": "markdown",
   "metadata": {},
   "source": [
    "## Baseline  №2.\n",
    "\n",
    "Train hidden variables via pytorch autograd.  \n",
    "\n",
    "1. Hidden variable `player`, which will be interpreted as player's skill.  \n",
    "2. Hidden variable `question`, which will be interpreted as question complexity.  "
   ]
  },
  {
   "cell_type": "code",
   "execution_count": 33,
   "metadata": {},
   "outputs": [],
   "source": [
    "import torch\n",
    "from torch.nn import functional as F"
   ]
  },
  {
   "cell_type": "code",
   "execution_count": 34,
   "metadata": {},
   "outputs": [],
   "source": [
    "mask_to_labels = {}\n",
    "c_to_int = defaultdict(lambda: 0)\n",
    "c_to_int['0'] = 0\n",
    "c_to_int['1'] = 1\n",
    "\n",
    "def index_questions(tournaments):\n",
    "    count = 0\n",
    "    question_mappings = defaultdict(list)\n",
    "    inverse_question_mappings = {}\n",
    "    \n",
    "    keys = tournaments.keys()\n",
    "    for key in keys:\n",
    "        max_length = 0\n",
    "        for subteam in results[key]:\n",
    "            mask = subteam['mask']\n",
    "            max_length = max(len(mask), max_length)\n",
    "        rng = range(count, count + max_length)\n",
    "        question_mappings[key] = rng\n",
    "        count += max_length\n",
    "        \n",
    "        for idx in rng:\n",
    "            inverse_question_mappings[idx] = key\n",
    "    return question_mappings, inverse_question_mappings, count\n",
    "\n",
    "def row_to_samples(row):\n",
    "    mask = row['mask']\n",
    "    N = len(mask)\n",
    "    tour_id = row.tournament_id\n",
    "    idxs = list(question_mappings[tour_id])\n",
    "    labels = mask_to_labels.get((tour_id, mask), None)\n",
    "    if labels is None:\n",
    "        labels = [c_to_int[c] for c in mask]\n",
    "        mask_to_labels[(tour_id, mask)] = labels\n",
    "        \n",
    "    samples = np.empty((N, 3))\n",
    "    samples[:, 0] = row.player_id\n",
    "    samples[:, 1] = idxs[:N]\n",
    "    samples[:, 2] = labels\n",
    "    \n",
    "    return samples"
   ]
  },
  {
   "cell_type": "code",
   "execution_count": 43,
   "metadata": {},
   "outputs": [],
   "source": [
    "player_question_tournament = train_participant_df[['player_id', 'mask', 'tournament_id']]\n",
    "question_mappings, inverse_question_mappings, total_questions = index_questions(train_tournaments)\n",
    "\n",
    "samples = player_question_tournament.apply(row_to_samples, axis=1)\n",
    "samples = pd.DataFrame(list(samples.explode()), columns=['player_id', 'question_id', 'label']).astype(np.int)\n",
    "\n",
    "\n",
    "\n",
    "player_ids = torch.tensor([list(players_probabilities.index)], dtype=torch.long)\n",
    "N = player_ids.shape[1]\n",
    "\n",
    "# (!) does not work well with indexing, unfortunately (!)\n",
    "# ratings = torch.ones(N, dtype=torch.float)\n",
    "# ratings_sparse = torch.sparse_coo_tensor(player_ids, ratings, requires_grad=True)"
   ]
  },
  {
   "cell_type": "code",
   "execution_count": 44,
   "metadata": {},
   "outputs": [],
   "source": [
    "del train_participant_df # free some memory\n",
    "del test_participant_df  # free some memory\n",
    "del participant_df"
   ]
  },
  {
   "cell_type": "code",
   "execution_count": 45,
   "metadata": {},
   "outputs": [
    {
     "name": "stdout",
     "output_type": "stream",
     "text": [
      "(21014015, 3)\n"
     ]
    },
    {
     "data": {
      "text/html": [
       "<div>\n",
       "<style scoped>\n",
       "    .dataframe tbody tr th:only-of-type {\n",
       "        vertical-align: middle;\n",
       "    }\n",
       "\n",
       "    .dataframe tbody tr th {\n",
       "        vertical-align: top;\n",
       "    }\n",
       "\n",
       "    .dataframe thead th {\n",
       "        text-align: right;\n",
       "    }\n",
       "</style>\n",
       "<table border=\"1\" class=\"dataframe\">\n",
       "  <thead>\n",
       "    <tr style=\"text-align: right;\">\n",
       "      <th></th>\n",
       "      <th>player_id</th>\n",
       "      <th>question_id</th>\n",
       "      <th>label</th>\n",
       "    </tr>\n",
       "  </thead>\n",
       "  <tbody>\n",
       "    <tr>\n",
       "      <th>756</th>\n",
       "      <td>41845</td>\n",
       "      <td>31807</td>\n",
       "      <td>1</td>\n",
       "    </tr>\n",
       "    <tr>\n",
       "      <th>3312</th>\n",
       "      <td>116899</td>\n",
       "      <td>31807</td>\n",
       "      <td>0</td>\n",
       "    </tr>\n",
       "    <tr>\n",
       "      <th>2736</th>\n",
       "      <td>11417</td>\n",
       "      <td>31807</td>\n",
       "      <td>0</td>\n",
       "    </tr>\n",
       "    <tr>\n",
       "      <th>3528</th>\n",
       "      <td>20076</td>\n",
       "      <td>31807</td>\n",
       "      <td>0</td>\n",
       "    </tr>\n",
       "    <tr>\n",
       "      <th>5328</th>\n",
       "      <td>213211</td>\n",
       "      <td>31807</td>\n",
       "      <td>0</td>\n",
       "    </tr>\n",
       "  </tbody>\n",
       "</table>\n",
       "</div>"
      ],
      "text/plain": [
       "      player_id  question_id  label\n",
       "756       41845        31807      1\n",
       "3312     116899        31807      0\n",
       "2736      11417        31807      0\n",
       "3528      20076        31807      0\n",
       "5328     213211        31807      0"
      ]
     },
     "execution_count": 45,
     "metadata": {},
     "output_type": "execute_result"
    }
   ],
   "source": [
    "print(samples.shape)\n",
    "samples[samples.question_id==31807].sample(5)"
   ]
  },
  {
   "cell_type": "code",
   "execution_count": 46,
   "metadata": {},
   "outputs": [],
   "source": [
    "def print_question_info(qid):\n",
    "    selector = samples[samples.question_id==qid]\n",
    "    probability = selector.label.sum() / selector.shape[0]\n",
    "    tour_id = inverse_question_mappings[qid]\n",
    "\n",
    "    print(f'Question [{qid}] was answered correcly [{probability * 100:.2f}%] times and' +\\\n",
    "          f'\\nbelongs to tournament [{tour_id}], which also has question from [{question_mappings[tour_id]}]')"
   ]
  },
  {
   "cell_type": "code",
   "execution_count": 47,
   "metadata": {},
   "outputs": [
    {
     "name": "stdout",
     "output_type": "stream",
     "text": [
      "Question [31807] was answered correcly [46.70%] times and\n",
      "belongs to tournament [6144], which also has question from [range(31807, 31843)]\n"
     ]
    }
   ],
   "source": [
    "print_question_info(31807)"
   ]
  },
  {
   "cell_type": "code",
   "execution_count": 48,
   "metadata": {},
   "outputs": [],
   "source": [
    "player_id_sample = [224482, 154072, 38]\n",
    "question_id_sample = [31807, 7440, 23771]\n",
    "\n",
    "indices = torch.tensor(samples.player_id.values, dtype=torch.long)\n",
    "question_indices = torch.tensor(samples.question_id.values, dtype=torch.long)\n",
    "labels = torch.tensor(samples.label, dtype=torch.float)"
   ]
  },
  {
   "cell_type": "code",
   "execution_count": 49,
   "metadata": {},
   "outputs": [],
   "source": [
    "del train_tournaments # free some memory"
   ]
  },
  {
   "cell_type": "markdown",
   "metadata": {},
   "source": [
    "#### Logistic Regression with Player weights\n",
    "\n",
    "- `model.player` will be a hidden variable which describes the player.  \n",
    "\n",
    "Under the hood, the input feature is an **id of a single player**, thus on each sample it updates only a single weight (`model.player.weight[0, idx]`). As a result, the model converges to **mean values** of a player (average probability of correct answer for all questions). One may see it after training process and compare with the historical values.  "
   ]
  },
  {
   "cell_type": "code",
   "execution_count": 50,
   "metadata": {},
   "outputs": [],
   "source": [
    "class LR_PlayerWeights(torch.nn.Module):\n",
    "    def __init__(self, player_weights=None):\n",
    "        super(LR_PlayerWeights, self).__init__()\n",
    "        self.player = torch.nn.Linear(players_probabilities.index[-1] + 1, 1, bias=False)\n",
    "        if player_weights:\n",
    "            self.player.weight[:, 0] = player_weights\n",
    "            \n",
    "    def get_weight(self, idxs):\n",
    "        idxs = torch.tensor(idxs)\n",
    "        return self.player.weight[0, idxs]\n",
    "        \n",
    "    def forward(self, idxs):\n",
    "        coefs = self.player.weight[0, idxs]\n",
    "        return F.sigmoid(coefs)"
   ]
  },
  {
   "cell_type": "code",
   "execution_count": 51,
   "metadata": {},
   "outputs": [],
   "source": [
    "def train(epochs=100, plot=True):\n",
    "    input = torch.tensor([player_id_sample])\n",
    "    with torch.no_grad():\n",
    "        print('Weights before: ', model.get_weight(player_id_sample))\n",
    "        print('Probs before: ', model(input))\n",
    "    \n",
    "    losses = []\n",
    "    for epoch in tqdm_notebook(range(epochs), total=epochs):\n",
    "        model.train()\n",
    "\n",
    "        optimizer.zero_grad()\n",
    "\n",
    "        y_pred = model(indices).squeeze(0)\n",
    "        total_loss = criterion(y_pred, labels)\n",
    "        losses.append(total_loss.item())\n",
    "        total_loss.backward()\n",
    "        optimizer.step()\n",
    "\n",
    "    with torch.no_grad():\n",
    "        print('Weights after: ', model.get_weight(player_id_sample))\n",
    "        print('Probs after: ', model(input))\n",
    "    \n",
    "    if plot:\n",
    "        plt.title('Epoch loss')\n",
    "        plt.plot(range(epochs), losses)\n",
    "        plt.xlabel('Epoch index')\n",
    "        plt.ylabel('BCE Loss')\n",
    "        plt.show()\n",
    "    return losses"
   ]
  },
  {
   "cell_type": "code",
   "execution_count": 52,
   "metadata": {},
   "outputs": [
    {
     "name": "stdout",
     "output_type": "stream",
     "text": [
      "Weights before:  tensor([-0.0016, -0.0010, -0.0010])\n",
      "Probs before:  tensor([[0.4996, 0.4998, 0.4997]])\n"
     ]
    },
    {
     "data": {
      "application/vnd.jupyter.widget-view+json": {
       "model_id": "0217848f55334166a826e54ce75b9cb1",
       "version_major": 2,
       "version_minor": 0
      },
      "text/plain": [
       "HBox(children=(FloatProgress(value=0.0), HTML(value='')))"
      ]
     },
     "metadata": {},
     "output_type": "display_data"
    },
    {
     "name": "stdout",
     "output_type": "stream",
     "text": [
      "\n",
      "Weights after:  tensor([-2.0678, -0.2842, -1.3621])\n",
      "Probs after:  tensor([[0.1123, 0.4294, 0.2039]])\n"
     ]
    },
    {
     "data": {
      "image/png": "[encoded data removed]",
      "text/plain": [
       "<Figure size 432x288 with 1 Axes>"
      ]
     },
     "metadata": {
      "needs_background": "light"
     },
     "output_type": "display_data"
    },
    {
     "data": {
      "text/html": [
       "<div>\n",
       "<style scoped>\n",
       "    .dataframe tbody tr th:only-of-type {\n",
       "        vertical-align: middle;\n",
       "    }\n",
       "\n",
       "    .dataframe tbody tr th {\n",
       "        vertical-align: top;\n",
       "    }\n",
       "\n",
       "    .dataframe thead th {\n",
       "        text-align: right;\n",
       "    }\n",
       "</style>\n",
       "<table border=\"1\" class=\"dataframe\">\n",
       "  <thead>\n",
       "    <tr style=\"text-align: right;\">\n",
       "      <th></th>\n",
       "      <th>prob</th>\n",
       "      <th>1_prob</th>\n",
       "      <th>2_prob</th>\n",
       "      <th>rest_prob</th>\n",
       "      <th>games</th>\n",
       "      <th>total_positive</th>\n",
       "      <th>total_questions</th>\n",
       "    </tr>\n",
       "    <tr>\n",
       "      <th>player_id</th>\n",
       "      <th></th>\n",
       "      <th></th>\n",
       "      <th></th>\n",
       "      <th></th>\n",
       "      <th></th>\n",
       "      <th></th>\n",
       "      <th></th>\n",
       "    </tr>\n",
       "  </thead>\n",
       "  <tbody>\n",
       "    <tr>\n",
       "      <th>224482</th>\n",
       "      <td>0.111111</td>\n",
       "      <td>0.083333</td>\n",
       "      <td>0.166667</td>\n",
       "      <td>0.083333</td>\n",
       "      <td>1.0</td>\n",
       "      <td>4.0</td>\n",
       "      <td>36.0</td>\n",
       "    </tr>\n",
       "    <tr>\n",
       "      <th>154072</th>\n",
       "      <td>0.429217</td>\n",
       "      <td>0.467742</td>\n",
       "      <td>0.330739</td>\n",
       "      <td>0.235294</td>\n",
       "      <td>18.0</td>\n",
       "      <td>285.0</td>\n",
       "      <td>664.0</td>\n",
       "    </tr>\n",
       "    <tr>\n",
       "      <th>38</th>\n",
       "      <td>0.202680</td>\n",
       "      <td>0.200000</td>\n",
       "      <td>0.168350</td>\n",
       "      <td>0.025411</td>\n",
       "      <td>12.0</td>\n",
       "      <td>121.0</td>\n",
       "      <td>597.0</td>\n",
       "    </tr>\n",
       "  </tbody>\n",
       "</table>\n",
       "</div>"
      ],
      "text/plain": [
       "               prob    1_prob    2_prob  rest_prob  games  total_positive  \\\n",
       "player_id                                                                   \n",
       "224482     0.111111  0.083333  0.166667   0.083333    1.0             4.0   \n",
       "154072     0.429217  0.467742  0.330739   0.235294   18.0           285.0   \n",
       "38         0.202680  0.200000  0.168350   0.025411   12.0           121.0   \n",
       "\n",
       "           total_questions  \n",
       "player_id                   \n",
       "224482                36.0  \n",
       "154072               664.0  \n",
       "38                   597.0  "
      ]
     },
     "execution_count": 52,
     "metadata": {},
     "output_type": "execute_result"
    }
   ],
   "source": [
    "model = LR_PlayerWeights()\n",
    "\n",
    "criterion = torch.nn.BCELoss()\n",
    "optimizer = torch.optim.Adam(model.parameters(), lr=0.1)\n",
    "\n",
    "losses = train(100)\n",
    "# Comparison with historical average probabilities\n",
    "players_probabilities.loc[player_id_sample]"
   ]
  },
  {
   "cell_type": "markdown",
   "metadata": {},
   "source": [
    "---\n",
    "#### Logistic Regression with Player & Question weights\n",
    "\n",
    "- `model.player` will be a hidden variable which describes the player.  \n",
    "- `model.questions` will be a hidden variable which describes complexity of the question \n",
    "\n",
    "Under the hood, the input features are an **id of a single player** and an **id of a single question**, thus on each sample it updates 2 weights (`model.player.weight[0, p_idx]` and `model.player.question[0, q_idx]`). Using this approach the model can distinguish the complexity of a question (in comments I call it `question simplicity bonus`) and the skill of a player.  \n",
    "\n",
    "It works pretty well and allows to: \n",
    "- interpret question complexity  $P(Q_i)$\n",
    "- get the probability of a person to answer specific question: $P(Q_i|P_j)$\n",
    "- gain a kind of real player and question ranking  \n",
    "\n",
    "See the **study** section after training.   \n",
    "\n",
    "As a possible drawback - the values of very often questions are updated more frequently, which can cause lowering of their values, but the rare questions may be dramastically large (_not sure about that_). "
   ]
  },
  {
   "cell_type": "code",
   "execution_count": 53,
   "metadata": {},
   "outputs": [],
   "source": [
    "class LR_PlayerQuestionWeights(torch.nn.Module):\n",
    "    def __init__(self, player_weights=None, question_weights=None):\n",
    "        super(LR_PlayerQuestionWeights, self).__init__()\n",
    "        self.player = torch.nn.Linear(players_probabilities.index[-1] + 1, 1, bias=False)\n",
    "        if player_weights:\n",
    "            self.linear.weight[:, 0] = player_weights\n",
    "            \n",
    "        self.questions = torch.nn.Linear(total_questions, 1, bias=False)\n",
    "        if question_weights:\n",
    "            self.questions.weight[:, 0] = question_weights\n",
    "            \n",
    "    def get_weight(self, idxs):\n",
    "        idxs = torch.tensor(idxs)\n",
    "        return self.player.weight[0, idxs]\n",
    "        \n",
    "    def forward(self, player_idxs, question_idxs):\n",
    "        assert player_idxs.shape == question_idxs.shape, 'Shapes of players and questions differ'\n",
    "        player_coefs = self.player.weight[0, player_idxs]\n",
    "        question_coefs = self.questions.weight[0, question_idxs]\n",
    "        \n",
    "        result = player_coefs + question_coefs \n",
    "        \n",
    "        return F.sigmoid(result)"
   ]
  },
  {
   "cell_type": "code",
   "execution_count": 54,
   "metadata": {},
   "outputs": [],
   "source": [
    "def train_with_questions(epochs=100, plot=True):\n",
    "    \n",
    "    input = (torch.tensor([player_id_sample]), torch.tensor([question_id_sample]))\n",
    "    \n",
    "    with torch.no_grad():\n",
    "        print('Weights before: ', model.get_weight(player_id_sample))\n",
    "        print('Probs for questions before: ', model(*input))\n",
    "    \n",
    "    losses = []\n",
    "    for epoch in tqdm_notebook(range(epochs), total=epochs):\n",
    "        model.train()\n",
    "\n",
    "# Uncomment and replace LBFGS optimizer with Adam\n",
    "#         optimizer.zero_grad()\n",
    "#         y_pred = model(indices, question_indices).squeeze(0)\n",
    "#         total_loss = criterion(y_pred, labels)\n",
    "#         losses.append(total_loss.item())\n",
    "#         total_loss.backward()\n",
    "#         optimizer.step()\n",
    "        optimizer.step(lambda: closure(losses)) # LBFGS\n",
    "\n",
    "\n",
    "\n",
    "    with torch.no_grad():\n",
    "        print('Weights after: ', model.get_weight(player_id_sample))\n",
    "        print('Probs for questions after: ', model(*input))\n",
    "    \n",
    "    if plot:\n",
    "        plt.title('Train loss')\n",
    "        plt.plot(range(len(losses)), losses)\n",
    "        plt.xlabel('Epoch index')\n",
    "        plt.ylabel('BCE Loss')\n",
    "        plt.show()\n",
    "    return losses"
   ]
  },
  {
   "cell_type": "code",
   "execution_count": 55,
   "metadata": {},
   "outputs": [
    {
     "name": "stdout",
     "output_type": "stream",
     "text": [
      "Weights before:  tensor([ 0.0011, -0.0004,  0.0007])\n",
      "Probs for questions before:  tensor([[0.4990, 0.4993, 0.4994]])\n"
     ]
    },
    {
     "data": {
      "application/vnd.jupyter.widget-view+json": {
       "model_id": "79e812cea3d4430a80831357e579d9b7",
       "version_major": 2,
       "version_minor": 0
      },
      "text/plain": [
       "HBox(children=(FloatProgress(value=0.0, max=20.0), HTML(value='')))"
      ]
     },
     "metadata": {},
     "output_type": "display_data"
    },
    {
     "name": "stdout",
     "output_type": "stream",
     "text": [
      "\n",
      "Weights after:  tensor([-1.1418,  0.5763, -0.4197])\n",
      "Probs for questions after:  tensor([[0.1468, 0.5027, 0.3145]])\n"
     ]
    },
    {
     "data": {
      "image/png": "[encoded data removed]",
      "text/plain": [
       "<Figure size 432x288 with 1 Axes>"
      ]
     },
     "metadata": {
      "needs_background": "light"
     },
     "output_type": "display_data"
    }
   ],
   "source": [
    "model = LR_PlayerQuestionWeights()\n",
    "\n",
    "l2_term = 0\n",
    "criterion = torch.nn.BCELoss()\n",
    "\n",
    "\n",
    "\n",
    "def closure(losses): # LBFGS-specific\n",
    "      predicted = model(indices, question_indices).squeeze(0)\n",
    "      loss = criterion(predicted, labels)\n",
    "      optimizer.zero_grad()\n",
    "      losses.append(loss.item())\n",
    "      loss.backward()\n",
    "    \n",
    "      return loss\n",
    "\n",
    "# optimizer = torch.optim.Adam(model.parameters(), lr=0.1)\n",
    "optimizer = torch.optim.LBFGS(model.parameters())\n",
    "\n",
    "losses = train_with_questions(20)"
   ]
  },
  {
   "cell_type": "code",
   "execution_count": 56,
   "metadata": {},
   "outputs": [
    {
     "data": {
      "text/html": [
       "<div>\n",
       "<style scoped>\n",
       "    .dataframe tbody tr th:only-of-type {\n",
       "        vertical-align: middle;\n",
       "    }\n",
       "\n",
       "    .dataframe tbody tr th {\n",
       "        vertical-align: top;\n",
       "    }\n",
       "\n",
       "    .dataframe thead th {\n",
       "        text-align: right;\n",
       "    }\n",
       "</style>\n",
       "<table border=\"1\" class=\"dataframe\">\n",
       "  <thead>\n",
       "    <tr style=\"text-align: right;\">\n",
       "      <th></th>\n",
       "      <th>prob</th>\n",
       "      <th>1_prob</th>\n",
       "      <th>2_prob</th>\n",
       "      <th>rest_prob</th>\n",
       "      <th>games</th>\n",
       "      <th>total_positive</th>\n",
       "      <th>total_questions</th>\n",
       "    </tr>\n",
       "    <tr>\n",
       "      <th>player_id</th>\n",
       "      <th></th>\n",
       "      <th></th>\n",
       "      <th></th>\n",
       "      <th></th>\n",
       "      <th></th>\n",
       "      <th></th>\n",
       "      <th></th>\n",
       "    </tr>\n",
       "  </thead>\n",
       "  <tbody>\n",
       "    <tr>\n",
       "      <th>224482</th>\n",
       "      <td>0.111111</td>\n",
       "      <td>0.083333</td>\n",
       "      <td>0.166667</td>\n",
       "      <td>0.083333</td>\n",
       "      <td>1.0</td>\n",
       "      <td>4.0</td>\n",
       "      <td>36.0</td>\n",
       "    </tr>\n",
       "    <tr>\n",
       "      <th>154072</th>\n",
       "      <td>0.429217</td>\n",
       "      <td>0.467742</td>\n",
       "      <td>0.330739</td>\n",
       "      <td>0.235294</td>\n",
       "      <td>18.0</td>\n",
       "      <td>285.0</td>\n",
       "      <td>664.0</td>\n",
       "    </tr>\n",
       "    <tr>\n",
       "      <th>38</th>\n",
       "      <td>0.202680</td>\n",
       "      <td>0.200000</td>\n",
       "      <td>0.168350</td>\n",
       "      <td>0.025411</td>\n",
       "      <td>12.0</td>\n",
       "      <td>121.0</td>\n",
       "      <td>597.0</td>\n",
       "    </tr>\n",
       "  </tbody>\n",
       "</table>\n",
       "</div>"
      ],
      "text/plain": [
       "               prob    1_prob    2_prob  rest_prob  games  total_positive  \\\n",
       "player_id                                                                   \n",
       "224482     0.111111  0.083333  0.166667   0.083333    1.0             4.0   \n",
       "154072     0.429217  0.467742  0.330739   0.235294   18.0           285.0   \n",
       "38         0.202680  0.200000  0.168350   0.025411   12.0           121.0   \n",
       "\n",
       "           total_questions  \n",
       "player_id                   \n",
       "224482                36.0  \n",
       "154072               664.0  \n",
       "38                   597.0  "
      ]
     },
     "execution_count": 56,
     "metadata": {},
     "output_type": "execute_result"
    }
   ],
   "source": [
    "# Comparison with historical average probabilities\n",
    "players_probabilities.loc[player_id_sample]"
   ]
  },
  {
   "cell_type": "markdown",
   "metadata": {},
   "source": [
    "Questions complexity study"
   ]
  },
  {
   "cell_type": "code",
   "execution_count": 57,
   "metadata": {},
   "outputs": [
    {
     "name": "stdout",
     "output_type": "stream",
     "text": [
      "Questions simplicity [31807, 7440, 23771]: tensor([-0.6181, -0.5656, -0.3595])\n"
     ]
    }
   ],
   "source": [
    "# question simplicity bonus\n",
    "# expected interpretation - lower the value, harder it is to give correct answer\n",
    "with torch.no_grad():\n",
    "    print(f'Questions simplicity {question_id_sample}:', model.questions.weight[0, question_id_sample])"
   ]
  },
  {
   "cell_type": "code",
   "execution_count": 58,
   "metadata": {},
   "outputs": [
    {
     "name": "stdout",
     "output_type": "stream",
     "text": [
      "Question [31807] was answered correcly [46.70%] times and\n",
      "belongs to tournament [6144], which also has question from [range(31807, 31843)]\n",
      "Question [7440] was answered correcly [17.86%] times and\n",
      "belongs to tournament [5447], which also has question from [range(7416, 7476)]\n",
      "Question [23771] was answered correcly [66.50%] times and\n",
      "belongs to tournament [5845], which also has question from [range(23748, 23793)]\n"
     ]
    }
   ],
   "source": [
    "for question_id in question_id_sample:\n",
    "    print_question_info(question_id)"
   ]
  },
  {
   "cell_type": "code",
   "execution_count": 59,
   "metadata": {},
   "outputs": [],
   "source": [
    "del samples # free some memory"
   ]
  },
  {
   "cell_type": "markdown",
   "metadata": {},
   "source": [
    "### Player ratings (Baseline-2)\n",
    "Seems natural"
   ]
  },
  {
   "cell_type": "code",
   "execution_count": 60,
   "metadata": {},
   "outputs": [],
   "source": [
    "raw_weights = model.player.weight.detach().cpu()\n",
    "player_indices = players_probabilities.index.values\n",
    "indexed_coefs = raw_weights[0, player_indices]\n",
    "best_scores, best_indices = torch.sort(indexed_coefs, descending=True)\n",
    "best_player_ids = player_indices[best_indices]"
   ]
  },
  {
   "cell_type": "code",
   "execution_count": 61,
   "metadata": {},
   "outputs": [
    {
     "name": "stdout",
     "output_type": "stream",
     "text": [
      "1. (36844) Щербина  Павел Константинович; Ratio: [35/36] ; weight: 4.5785\n",
      "2. (27403) Руссо  Максим Михайлович; Ratio: [1980/2474] ; weight: 3.7141\n",
      "3. (4270) Брутер  Александра Владимировна; Ratio: [2409/3026] ; weight: 3.5807\n",
      "4. (28751) Семушин  Иван Николаевич; Ratio: [3242/4118] ; weight: 3.5481\n",
      "5. (40411) Кудинов  Дмитрий Сергеевич; Ratio: [33/45] ; weight: 3.4352\n",
      "6. (30152) Сорожкин  Артём Сергеевич; Ratio: [4000/5254] ; weight: 3.3690\n",
      "7. (30270) Спешков  Сергей Леонидович; Ratio: [3202/4190] ; weight: 3.3681\n",
      "8. (27822) Савченков  Михаил Владимирович; Ratio: [2843/3677] ; weight: 3.3633\n",
      "9. (38175) Пилипенко  Максим Игоревич; Ratio: [29/36] ; weight: 3.3573\n",
      "10. (202410) Подюкова  Валентина ; Ratio: [33/36] ; weight: 3.2643\n",
      "11. (18036) Левандовский  Михаил Ильич; Ratio: [1132/1560] ; weight: 3.2365\n",
      "12. (20691) Мереминский  Станислав Григорьевич; Ratio: [1279/1739] ; weight: 3.2345\n",
      "13. (22799) Николенко  Сергей Игоревич; Ratio: [1548/2325] ; weight: 3.2202\n",
      "14. (26089) Прокофьева  Ирина Сергеевна; Ratio: [849/1171] ; weight: 3.1972\n",
      "15. (87637) Саксонов  Антон Владимирович; Ratio: [1093/1458] ; weight: 3.1546\n",
      "16. (22935) Новиков  Илья Сергеевич; Ratio: [1172/1647] ; weight: 3.1429\n",
      "17. (34328) Царёв  Михаил Сергеевич; Ratio: [325/507] ; weight: 3.1425\n",
      "18. (18332) Либер  Александр Витальевич; Ratio: [3007/4127] ; weight: 3.1308\n",
      "19. (12785) Ишин  Вадим Александрович; Ratio: [43/60] ; weight: 3.1264\n",
      "20. (210174) Карпелевич  Анна Михайловна; Ratio: [34/60] ; weight: 3.1126\n"
     ]
    }
   ],
   "source": [
    "for idx, id in enumerate(best_player_ids[:20]):\n",
    "    player = players[id]\n",
    "    positives, total = players_probabilities.loc[id, ['total_positive', 'total_questions']]\n",
    "    print(f'{idx + 1}. ({id}) {player[\"surname\"]}  {player[\"name\"]} {player[\"patronymic\"]}; Ratio: [{positives:.0f}/{total:.0f}] ; weight: {best_scores[idx].item():.4f}')"
   ]
  },
  {
   "cell_type": "code",
   "execution_count": 62,
   "metadata": {},
   "outputs": [],
   "source": [
    "raw_weights_np = model.player.weight.detach().cpu().numpy()[0] # [1, N] -> [N]\n",
    "train_only_weights = raw_weights_np[player_ids][0] \n",
    "mean_vector = train_only_weights.mean()"
   ]
  },
  {
   "cell_type": "markdown",
   "metadata": {},
   "source": [
    "### Distribution of player skills"
   ]
  },
  {
   "cell_type": "code",
   "execution_count": 63,
   "metadata": {},
   "outputs": [
    {
     "name": "stdout",
     "output_type": "stream",
     "text": [
      "count    59101.000000\n",
      "mean        -0.767763\n",
      "std          1.758196\n",
      "min        -15.441506\n",
      "25%         -1.834444\n",
      "50%         -0.537560\n",
      "75%          0.461837\n",
      "max          4.578496\n",
      "dtype: float64\n"
     ]
    },
    {
     "data": {
      "image/png": "[encoded data removed]",
      "text/plain": [
       "<Figure size 432x288 with 1 Axes>"
      ]
     },
     "metadata": {
      "needs_background": "light"
     },
     "output_type": "display_data"
    }
   ],
   "source": [
    "print(pd.Series(train_only_weights).describe())\n",
    "sns.distplot(train_only_weights, hist=True, kde=False, \n",
    "             bins=180//5, color = 'blue',\n",
    "             hist_kws={'edgecolor':'black'})\n",
    "plt.xlabel('Player score (skill)')\n",
    "plt.ylabel('Density')\n",
    "plt.show()"
   ]
  },
  {
   "cell_type": "markdown",
   "metadata": {},
   "source": [
    "### Team ranking"
   ]
  },
  {
   "cell_type": "code",
   "execution_count": 64,
   "metadata": {},
   "outputs": [],
   "source": [
    "def estimate_tournaments_v2(tournament_ids, player_coefs: np.array, vector_policy):\n",
    "    correlations = []\n",
    "    for tour_id in tqdm_notebook(tournament_ids, total=len(tournament_ids)):\n",
    "        team_scores = estimate_tournament_v2(tour_id, player_coefs, vector_policy)\n",
    "#         team_positions = tournament_teams[tour_id]['position']\n",
    "        real_ranks = range(len(team_scores))\n",
    "        corrs = get_correlations(real_ranks, team_scores)\n",
    "        correlations.append(corrs)\n",
    "    correlations = np.array(correlations)\n",
    "    return correlations.mean(axis=0)"
   ]
  },
  {
   "cell_type": "code",
   "execution_count": 65,
   "metadata": {},
   "outputs": [],
   "source": [
    "def estimate_tournament_v2(tournament_id, player_coefs: np.array, vector_policy):\n",
    "    global mean_vector\n",
    "    \n",
    "    meta = tournament_teams[tournament_id]\n",
    "    teams_initial_order = meta['order']\n",
    "    team_players = [meta['teams'][id].player_ids for id in teams_initial_order]\n",
    "    team_vectors = []\n",
    "    for ids in team_players:\n",
    "        ids = np.array(ids)\n",
    "        mask = ids < len(player_coefs)\n",
    "        vector = np.empty(mask.shape, dtype=np.float)\n",
    "        vector[mask] = player_coefs[ids[mask]]\n",
    "        vector[~mask] = mean_vector\n",
    "        team_vectors.append(vector)\n",
    "        \n",
    "    \n",
    "    team_scores = [vector_policy(vector) for vector in team_vectors]\n",
    "    \n",
    "#     new_order = list(zip(teams_initial_order, team_scores))\n",
    "#     new_order.sort(key=lambda x: x[1], reverse=True)\n",
    "#     new_order, team_scores2 = list(zip(*new_order))\n",
    "    \n",
    "    return team_scores"
   ]
  },
  {
   "cell_type": "markdown",
   "metadata": {},
   "source": [
    "### Baseline-2. Team ratings correlations\n",
    "\n",
    "Train: Spearmen and Kendall  \n",
    "Test: Spearmen and Kendall"
   ]
  },
  {
   "cell_type": "code",
   "execution_count": 66,
   "metadata": {},
   "outputs": [
    {
     "data": {
      "application/vnd.jupyter.widget-view+json": {
       "model_id": "ca2e218530344f8996f3b65ac720fd48",
       "version_major": 2,
       "version_minor": 0
      },
      "text/plain": [
       "HBox(children=(FloatProgress(value=0.0, max=673.0), HTML(value='')))"
      ]
     },
     "metadata": {},
     "output_type": "display_data"
    },
    {
     "name": "stdout",
     "output_type": "stream",
     "text": [
      "\n"
     ]
    },
    {
     "data": {
      "application/vnd.jupyter.widget-view+json": {
       "model_id": "14981fdeeb3a402a8a94bed13a00829c",
       "version_major": 2,
       "version_minor": 0
      },
      "text/plain": [
       "HBox(children=(FloatProgress(value=0.0, max=172.0), HTML(value='')))"
      ]
     },
     "metadata": {},
     "output_type": "display_data"
    },
    {
     "name": "stdout",
     "output_type": "stream",
     "text": [
      "\n"
     ]
    },
    {
     "data": {
      "text/plain": [
       "(array([0.8483, 0.6927]), array([0.7477, 0.5865]))"
      ]
     },
     "execution_count": 66,
     "metadata": {},
     "output_type": "execute_result"
    }
   ],
   "source": [
    "train_correlations = estimate_tournaments_v2(train_keys, raw_weights_np, np.mean)\n",
    "test_correlations = estimate_tournaments_v2(test_keys, raw_weights_np, np.mean)\n",
    "np.abs(train_correlations), np.abs(test_correlations)"
   ]
  },
  {
   "cell_type": "code",
   "execution_count": 67,
   "metadata": {},
   "outputs": [
    {
     "data": {
      "image/png": "[encoded data removed]",
      "text/plain": [
       "<Figure size 432x288 with 1 Axes>"
      ]
     },
     "metadata": {
      "needs_background": "light"
     },
     "output_type": "display_data"
    }
   ],
   "source": [
    "t = [4772, 5042, 5056, 5061, 5065]\n",
    "teamscores = estimate_tournament_v2(t[0], raw_weights_np, np.mean)\n",
    "plt.scatter(range(len(teamscores)), teamscores)\n",
    "plt.xlabel('Original team order (index)')\n",
    "plt.ylabel('Team score')\n",
    "plt.show()"
   ]
  },
  {
   "cell_type": "markdown",
   "metadata": {},
   "source": [
    "## 5. Question ranking\n",
    "\n",
    "Train only tournaments\n",
    "\n"
   ]
  },
  {
   "cell_type": "code",
   "execution_count": 68,
   "metadata": {},
   "outputs": [],
   "source": [
    "policy_name = 'questions toughness average'\n",
    "policy = np.mean"
   ]
  },
  {
   "cell_type": "code",
   "execution_count": 69,
   "metadata": {},
   "outputs": [
    {
     "name": "stdout",
     "output_type": "stream",
     "text": [
      "Answers provided by BASELINE-2\n",
      "Tournament evaluation POLICY: [questions toughness average]\n",
      "\n",
      "Top 20 tough tournaments\n",
      "\n",
      "1. (6149) Чемпионат Санкт-Петербурга. Первая лига. Toughness: [-12.662]\n",
      "2. (5717) Чемпионат Таджикистана. Toughness: [-4.662]\n",
      "3. (5930) Зеркало мемориала памяти Михаила Басса. Toughness: [-4.503]\n",
      "4. (5684) Синхрон высшей лиги Москвы. Toughness: [-4.225]\n",
      "5. (6101) Воображаемый музей. Toughness: [-4.062]\n",
      "6. (5435) Шестая октава: СИ-Мажор. Лига Наций: Прибалтика. Toughness: [-4.038]\n",
      "7. (5427) День D. Toughness: [-4.017]\n",
      "8. (5532) Седьмая октава: Кубок Равноденствия. Лига Наций: Прибалтика. Toughness: [-4.001]\n",
      "9. (5928) Угрюмый Ёрш. Toughness: [-3.905]\n",
      "10. (5929) Мемориал памяти Михаила Басса. Toughness: [-3.878]\n",
      "11. (5384) Поволжская лига. Toughness: [-3.799]\n",
      "12. (5943) Чемпионат Мира. Этап 2 Группа С. Toughness: [-3.725]\n",
      "13. (5159) Первенство правого полушария. Toughness: [-3.721]\n",
      "14. (5415) Главные вопросы жизни, вселенной и всего такого. Онлайн. Toughness: [-3.655]\n",
      "15. (6051) Трэцяя актава. Ліга нацый: Беларусь. Toughness: [-3.648]\n",
      "16. (5599) Чемпионат Туркменистана. Toughness: [-3.648]\n",
      "17. (5947) Чемпионат Мира. Этап 3. Группа С. Toughness: [-3.515]\n",
      "18. (5587) Записки охотника. Toughness: [-3.484]\n",
      "19. (6106) Кубок Тель-Авива. Toughness: [-3.423]\n",
      "20. (6087) Игра в бисер. Toughness: [-3.260]\n",
      "\n",
      "-----------\n",
      "\n",
      "Top 20 most simple tournaments\n",
      "\n",
      "1. (5438) Синхрон Лиги Разума. Toughness: [2.240]\n",
      "2. (5963) Асинхрон по South Park. Toughness: [2.229]\n",
      "3. (5013) (а)Синхрон-lite. Лига старта. Эпизод V. Toughness: [1.583]\n",
      "4. (5936) Школьная лига. I тур.. Toughness: [1.575]\n",
      "5. (6254) Школьная лига. Toughness: [1.524]\n",
      "6. (5955) Школьная лига. III тур.. Toughness: [1.490]\n",
      "7. (5012) Школьный Синхрон-lite. Выпуск 2.5. Toughness: [1.486]\n",
      "8. (5457) Студенческий чемпионат Калининградской области. Toughness: [1.485]\n",
      "9. (5954) Школьная лига. II тур.. Toughness: [1.330]\n",
      "10. (5698) (а)Синхрон-lite. Лига старта. Эпизод VII. Toughness: [1.305]\n",
      "11. (5009) (а)Синхрон-lite. Лига старта. Эпизод III. Toughness: [1.279]\n",
      "12. (6008) Малый кубок Физтеха. Toughness: [1.263]\n",
      "13. (5702) (а)Синхрон-lite. Лига старта. Эпизод IX. Toughness: [1.261]\n",
      "14. (5601) Межфакультетский кубок МГУ. Отбор №4. Toughness: [1.228]\n",
      "15. (5535) Кубок Тышкевичей. Toughness: [1.202]\n",
      "16. (5697) Школьный Синхрон-lite. Выпуск 3.1. Toughness: [1.179]\n",
      "17. (6003) Второй тематический турнир имени Джоуи Триббиани. Toughness: [1.167]\n",
      "18. (5008) Школьный Синхрон-lite. Выпуск 2.3. Toughness: [1.129]\n",
      "19. (5570) Турнир малых факультетов МГУ. Toughness: [1.089]\n",
      "20. (5701) Школьный Синхрон-lite. Выпуск 3.3. Toughness: [1.083]\n"
     ]
    }
   ],
   "source": [
    "question_weights = model.questions.weight.detach().cpu().numpy()[0] # (Q, )\n",
    "tournament_toughness = []\n",
    "\n",
    "\n",
    "for key in train_keys:\n",
    "    question_ids = question_mappings[key]\n",
    "    question_values = question_weights[question_ids]\n",
    "    tournament_value = policy(question_values)\n",
    "    \n",
    "    pair = (key, tournament_value)\n",
    "    tournament_toughness.append(pair)\n",
    "\n",
    "tournament_toughness.sort(key=lambda x: x[1])\n",
    "topn = 20\n",
    "\n",
    "print('Answers provided by BASELINE-2')\n",
    "print(f'Tournament evaluation POLICY: [{policy_name}]\\n')\n",
    "\n",
    "print(f'Top {topn} tough tournaments\\n')\n",
    "for idx, (tour_id, value) in enumerate(tournament_toughness[:topn]):\n",
    "    name = tournaments[tour_id]['name']\n",
    "    print(f'{idx + 1}. ({tour_id}) {name}. Toughness: [{value:.3f}]')\n",
    "\n",
    "print('\\n-----------\\n')\n",
    "\n",
    "print(f'Top {topn} most simple tournaments\\n')\n",
    "reverse = tournament_toughness[::-1][:topn]\n",
    "for idx, (tour_id, value) in enumerate(reverse):\n",
    "    name = tournaments[tour_id]['name']\n",
    "    print(f'{idx + 1}. ({tour_id}) {name}. Toughness: [{value:.3f}]')"
   ]
  },
  {
   "cell_type": "code",
   "execution_count": 70,
   "metadata": {},
   "outputs": [],
   "source": [
    "del question_weights\n",
    "del tournament_toughness\n",
    "del reverse\n",
    "del raw_weights"
   ]
  },
  {
   "cell_type": "markdown",
   "metadata": {},
   "source": [
    "## 4. CHGK as a team game\n",
    "\n",
    "\n",
    "### Preparation\n",
    "\n",
    "1. Get each pair of (team -> question)  \n",
    "2. The label of a pair is variable $Z$, which determines the likelihood $\\in (0;1)$ the $Team_j$ answers $Question_i$.  \n",
    "3. Get indexes of known pairs (which teams answered). It will be $Z_{ij}$, where the real label is known ($Y_i$ = 0 or 1 for $Team_j$).  \n",
    "4. The rest of pairs are unknown and will be preliminary set to $Z_{ij}^{(0)} = \\mathop{\\mathbb{E}}(Y_i)$  \n",
    "\n",
    "### On each iteration\n",
    "\n",
    "1. Set labels to the values of $Z_{ij}$, where real $Y_{ij}$ is unknown; use $Y_{ij}$ otherwise.   \n",
    "2. Train logistic/linear regression with parameters: question difficulty, player skill.  \n",
    "  - On each sample the inputs are indexes of team members and question id.  \n",
    "  - The output of a sample is $\\sigma[\\sum_{j\\in{team_i}}(W^{player}_{j}) + W^{question}_{k}]$  \n",
    "3. Get values of $Z_{i}$ as the new values of trained model.  \n",
    "4. Go to step (1) until $Q(Z, Z^{'}) < EPS$\n",
    "\n"
   ]
  },
  {
   "cell_type": "code",
   "execution_count": 71,
   "metadata": {},
   "outputs": [],
   "source": [
    "def row_to_team_sample(row, columns=['tournament_id', 'team_id', 'question_id', 'label']):\n",
    "    mask = row['mask']\n",
    "    N = len(mask)\n",
    "    tour_id = row.tournament_id\n",
    "    idxs = list(question_mappings[tour_id])\n",
    "    labels = mask_to_labels.get((tour_id, mask), None)\n",
    "    \n",
    "    if labels is None:\n",
    "        labels = [c_to_int[c] for c in mask]\n",
    "        mask_to_labels[(tour_id, mask)] = labels\n",
    "    \n",
    "    samples = pd.DataFrame(zip([tour_id] * N, [row.team_id] * N, idxs[:N], labels), columns=columns)\n",
    "    return samples\n",
    "\n",
    "def team_tour_to_players(df):\n",
    "    teamtour_to_players = {}\n",
    "    team_to_tours = defaultdict(list)\n",
    "    for idx, row in df.iterrows():\n",
    "        members = [meta[0] for meta in row['members']]\n",
    "        team_id = row['team_id']\n",
    "        teamtour_to_players[(idx, team_id)] = members\n",
    "        team_to_tours[team_id].append(idx)\n",
    "        \n",
    "    return teamtour_to_players, team_to_tours"
   ]
  },
  {
   "cell_type": "code",
   "execution_count": 72,
   "metadata": {},
   "outputs": [
    {
     "data": {
      "text/html": [
       "<div>\n",
       "<style scoped>\n",
       "    .dataframe tbody tr th:only-of-type {\n",
       "        vertical-align: middle;\n",
       "    }\n",
       "\n",
       "    .dataframe tbody tr th {\n",
       "        vertical-align: top;\n",
       "    }\n",
       "\n",
       "    .dataframe thead th {\n",
       "        text-align: right;\n",
       "    }\n",
       "</style>\n",
       "<table border=\"1\" class=\"dataframe\">\n",
       "  <thead>\n",
       "    <tr style=\"text-align: right;\">\n",
       "      <th></th>\n",
       "      <th>tournament_id</th>\n",
       "      <th>team_id</th>\n",
       "      <th>mask</th>\n",
       "      <th>members</th>\n",
       "    </tr>\n",
       "    <tr>\n",
       "      <th>tournament_id</th>\n",
       "      <th></th>\n",
       "      <th></th>\n",
       "      <th></th>\n",
       "      <th></th>\n",
       "    </tr>\n",
       "  </thead>\n",
       "  <tbody>\n",
       "    <tr>\n",
       "      <th>5554</th>\n",
       "      <td>5554</td>\n",
       "      <td>70338</td>\n",
       "      <td>001000000000010110000000000000000000000100110</td>\n",
       "      <td>[(118508, 0, 2987), (142090, 0, 7951), (171916...</td>\n",
       "    </tr>\n",
       "    <tr>\n",
       "      <th>5756</th>\n",
       "      <td>5756</td>\n",
       "      <td>57900</td>\n",
       "      <td>01001000011X100010X00000111000000X10</td>\n",
       "      <td>[(87044, 10013, 10013), (102751, 7591, 9109), ...</td>\n",
       "    </tr>\n",
       "    <tr>\n",
       "      <th>5475</th>\n",
       "      <td>5475</td>\n",
       "      <td>62078</td>\n",
       "      <td>1111011010000010101110110100001101110111001001...</td>\n",
       "      <td>[(131810, 569, 569), (162050, 466, 559), (1688...</td>\n",
       "    </tr>\n",
       "  </tbody>\n",
       "</table>\n",
       "</div>"
      ],
      "text/plain": [
       "               tournament_id  team_id  \\\n",
       "tournament_id                           \n",
       "5554                    5554    70338   \n",
       "5756                    5756    57900   \n",
       "5475                    5475    62078   \n",
       "\n",
       "                                                            mask  \\\n",
       "tournament_id                                                      \n",
       "5554               001000000000010110000000000000000000000100110   \n",
       "5756                        01001000011X100010X00000111000000X10   \n",
       "5475           1111011010000010101110110100001101110111001001...   \n",
       "\n",
       "                                                         members  \n",
       "tournament_id                                                     \n",
       "5554           [(118508, 0, 2987), (142090, 0, 7951), (171916...  \n",
       "5756           [(87044, 10013, 10013), (102751, 7591, 9109), ...  \n",
       "5475           [(131810, 569, 569), (162050, 466, 559), (1688...  "
      ]
     },
     "execution_count": 72,
     "metadata": {},
     "output_type": "execute_result"
    }
   ],
   "source": [
    "train_teams_df = teams_df[teams_df.tournament_id.isin(train_keys)]\n",
    "team_question_df = train_teams_df[['tournament_id', 'team_id', 'mask', 'members']]\n",
    "team_question_df.sample(3)"
   ]
  },
  {
   "cell_type": "code",
   "execution_count": 73,
   "metadata": {},
   "outputs": [
    {
     "name": "stdout",
     "output_type": "stream",
     "text": [
      "Team 62070 participated in [4973, 4974, 4975, 4986, 5021, 5025, 5074, 5078, 5108, 5129, 5163, 5205, 5314, 5358, 5443, 5444, 5554, 5557, 5648, 5760, 5761, 5833, 5864, 5880]\n",
      "Team 62070 in tour 4973 [147738, 162020, 13658, 167372]\n",
      "Team 62070 in tour 4974 [147738, 162020, 115524, 31817, 13658]\n"
     ]
    }
   ],
   "source": [
    "# Same team in different tournaments can switch players\n",
    "# (tour_id, team_id)\n",
    "teamtour_to_players, team_to_tours = team_tour_to_players(team_question_df)\n",
    "team_id = 62070\n",
    "played = team_to_tours[team_id]\n",
    "\n",
    "print(f'Team {team_id} participated in', played)\n",
    "for tour_id in played[:2]:\n",
    "    print(f'Team {team_id} in tour {tour_id}', teamtour_to_players[(tour_id, team_id)])"
   ]
  },
  {
   "cell_type": "code",
   "execution_count": 75,
   "metadata": {},
   "outputs": [
    {
     "name": "stdout",
     "output_type": "stream",
     "text": [
      "(3822540, 4)\n"
     ]
    },
    {
     "data": {
      "text/html": [
       "<div>\n",
       "<style scoped>\n",
       "    .dataframe tbody tr th:only-of-type {\n",
       "        vertical-align: middle;\n",
       "    }\n",
       "\n",
       "    .dataframe tbody tr th {\n",
       "        vertical-align: top;\n",
       "    }\n",
       "\n",
       "    .dataframe thead th {\n",
       "        text-align: right;\n",
       "    }\n",
       "</style>\n",
       "<table border=\"1\" class=\"dataframe\">\n",
       "  <thead>\n",
       "    <tr style=\"text-align: right;\">\n",
       "      <th></th>\n",
       "      <th>tournament_id</th>\n",
       "      <th>team_id</th>\n",
       "      <th>question_id</th>\n",
       "      <th>label</th>\n",
       "    </tr>\n",
       "  </thead>\n",
       "  <tbody>\n",
       "    <tr>\n",
       "      <th>15</th>\n",
       "      <td>5864</td>\n",
       "      <td>27522</td>\n",
       "      <td>24335</td>\n",
       "      <td>1</td>\n",
       "    </tr>\n",
       "    <tr>\n",
       "      <th>9</th>\n",
       "      <td>5629</td>\n",
       "      <td>43002</td>\n",
       "      <td>15543</td>\n",
       "      <td>1</td>\n",
       "    </tr>\n",
       "    <tr>\n",
       "      <th>27</th>\n",
       "      <td>5718</td>\n",
       "      <td>62365</td>\n",
       "      <td>18996</td>\n",
       "      <td>1</td>\n",
       "    </tr>\n",
       "  </tbody>\n",
       "</table>\n",
       "</div>"
      ],
      "text/plain": [
       "    tournament_id  team_id  question_id  label\n",
       "15           5864    27522        24335      1\n",
       "9            5629    43002        15543      1\n",
       "27           5718    62365        18996      1"
      ]
     },
     "execution_count": 75,
     "metadata": {},
     "output_type": "execute_result"
    }
   ],
   "source": [
    "team_train_samples = team_question_df.apply(row_to_team_sample, axis=1)\n",
    "team_train_samples = pd.concat(list(team_train_samples))\n",
    "\n",
    "print(team_train_samples.shape)\n",
    "team_train_samples.sample(3)"
   ]
  },
  {
   "cell_type": "code",
   "execution_count": 76,
   "metadata": {},
   "outputs": [
    {
     "data": {
      "text/plain": [
       "question_id\n",
       "8391     0.862500\n",
       "24222    0.485849\n",
       "19372    0.237232\n",
       "dtype: float64"
      ]
     },
     "execution_count": 76,
     "metadata": {},
     "output_type": "execute_result"
    }
   ],
   "source": [
    "question_stats = team_train_samples.groupby('question_id').apply(lambda x: x['label'].mean())\n",
    "question_stats.sample(3)"
   ]
  },
  {
   "cell_type": "code",
   "execution_count": 77,
   "metadata": {},
   "outputs": [],
   "source": [
    "from sklearn.linear_model import LinearRegression as LR\n",
    "from scipy.sparse import csr_matrix"
   ]
  },
  {
   "cell_type": "code",
   "execution_count": 78,
   "metadata": {},
   "outputs": [],
   "source": [
    "player_shift = player_ids.max().item() # bcs it was torch\n",
    "def generate_csr_matrix(indices, question_indices):\n",
    "    data = []\n",
    "    row = []\n",
    "    cols = []\n",
    "    for idx, (pair, qid) in enumerate(zip(indices, question_indices)):\n",
    "        players = teamtour_to_players[pair]\n",
    "        for player in players:\n",
    "            row.append(idx)\n",
    "            cols.append(player)\n",
    "            data.append(1)\n",
    "        row.append(idx)\n",
    "        cols.append(player_shift + qid)\n",
    "        data.append(1)\n",
    "    row, cols, data = map(np.array, [row, cols, data])\n",
    "    return csr_matrix((data, (row, cols)))\n",
    "\n",
    "def sigmoid(x):\n",
    "    ex = np.exp(x)\n",
    "    return ex / (1 + ex)\n",
    "\n",
    "def M_step(X, Z, plot=True):\n",
    "    \n",
    "    model = LR().fit(X, Z)\n",
    "    preds = model.predict(X)\n",
    "    return model, preds\n",
    "\n",
    "def E_step(Z, Z_new):\n",
    "    Z_upd = np.ones(Z.shape, dtype=np.float)\n",
    "    Z_upd[correct_answers_mask] = Z[correct_answers_mask]\n",
    "    Z_upd[incorrect_answers_mask] = Z_new[incorrect_answers_mask]\n",
    "    return Z_upd"
   ]
  },
  {
   "cell_type": "code",
   "execution_count": 79,
   "metadata": {},
   "outputs": [],
   "source": [
    "correct_answers_mask = team_train_samples.label == 1\n",
    "incorrect_answers_mask = ~correct_answers_mask\n",
    "# todo: find pi_0 and pi_1 per (tour_id, team)\n",
    "\n",
    "Z_initial = np.ones(correct_answers_mask.shape)\n",
    "# Z_initial[incorrect_answers_mask] = question_stats[team_train_samples[incorrect_answers_mask].index]\n",
    "Z_initial[incorrect_answers_mask] = 0\n",
    "\n",
    "Z_initial = np.clip(Z_initial, 1e-8, 1-1e-8)\n",
    "\n",
    "Z = Z_initial\n",
    "Z = np.log(Z / (1 - Z))"
   ]
  },
  {
   "cell_type": "code",
   "execution_count": 80,
   "metadata": {},
   "outputs": [],
   "source": [
    "question_indices = team_train_samples['question_id'].values\n",
    "indices = list(zip(team_train_samples.tournament_id, team_train_samples.team_id))\n",
    "matrix = generate_csr_matrix(indices, question_indices)"
   ]
  },
  {
   "cell_type": "code",
   "execution_count": 81,
   "metadata": {
    "scrolled": false
   },
   "outputs": [
    {
     "data": {
      "application/vnd.jupyter.widget-view+json": {
       "model_id": "2dbd1a9af2ef4efea172ad31c3f41d28",
       "version_major": 2,
       "version_minor": 0
      },
      "text/plain": [
       "HBox(children=(FloatProgress(value=0.0, max=5.0), HTML(value='')))"
      ]
     },
     "metadata": {},
     "output_type": "display_data"
    },
    {
     "data": {
      "application/vnd.jupyter.widget-view+json": {
       "model_id": "e9e1f6d75f6a432fa8511529f26c5bc4",
       "version_major": 2,
       "version_minor": 0
      },
      "text/plain": [
       "HBox(children=(FloatProgress(value=0.0, max=172.0), HTML(value='')))"
      ]
     },
     "metadata": {},
     "output_type": "display_data"
    },
    {
     "name": "stdout",
     "output_type": "stream",
     "text": [
      "\n",
      "Correlations: [0.6532 0.492 ]\n"
     ]
    },
    {
     "data": {
      "image/png": "[encoded data removed]",
      "text/plain": [
       "<Figure size 864x360 with 2 Axes>"
      ]
     },
     "metadata": {
      "needs_background": "light"
     },
     "output_type": "display_data"
    },
    {
     "data": {
      "application/vnd.jupyter.widget-view+json": {
       "model_id": "92367cdc4f084e06b5e544da3cf4d73a",
       "version_major": 2,
       "version_minor": 0
      },
      "text/plain": [
       "HBox(children=(FloatProgress(value=0.0, max=172.0), HTML(value='')))"
      ]
     },
     "metadata": {},
     "output_type": "display_data"
    },
    {
     "name": "stdout",
     "output_type": "stream",
     "text": [
      "\n",
      "Correlations: [0.6394 0.4832]\n"
     ]
    },
    {
     "data": {
      "image/png": "[encoded data removed]",
      "text/plain": [
       "<Figure size 864x360 with 2 Axes>"
      ]
     },
     "metadata": {
      "needs_background": "light"
     },
     "output_type": "display_data"
    },
    {
     "data": {
      "application/vnd.jupyter.widget-view+json": {
       "model_id": "9c3fb45fb8ab4e9da59664b6cbe988c0",
       "version_major": 2,
       "version_minor": 0
      },
      "text/plain": [
       "HBox(children=(FloatProgress(value=0.0, max=172.0), HTML(value='')))"
      ]
     },
     "metadata": {},
     "output_type": "display_data"
    },
    {
     "name": "stdout",
     "output_type": "stream",
     "text": [
      "\n",
      "Correlations: [0.6149 0.4643]\n"
     ]
    },
    {
     "data": {
      "image/png": "[encoded data removed]",
      "text/plain": [
       "<Figure size 864x360 with 2 Axes>"
      ]
     },
     "metadata": {
      "needs_background": "light"
     },
     "output_type": "display_data"
    },
    {
     "data": {
      "application/vnd.jupyter.widget-view+json": {
       "model_id": "34662aa327604175b676477737c5aaed",
       "version_major": 2,
       "version_minor": 0
      },
      "text/plain": [
       "HBox(children=(FloatProgress(value=0.0, max=172.0), HTML(value='')))"
      ]
     },
     "metadata": {},
     "output_type": "display_data"
    },
    {
     "name": "stdout",
     "output_type": "stream",
     "text": [
      "\n",
      "Correlations: [0.5874 0.4427]\n"
     ]
    },
    {
     "data": {
      "image/png": "[encoded data removed]",
      "text/plain": [
       "<Figure size 864x360 with 2 Axes>"
      ]
     },
     "metadata": {
      "needs_background": "light"
     },
     "output_type": "display_data"
    },
    {
     "data": {
      "application/vnd.jupyter.widget-view+json": {
       "model_id": "c97093afc858466080e839071a07e492",
       "version_major": 2,
       "version_minor": 0
      },
      "text/plain": [
       "HBox(children=(FloatProgress(value=0.0, max=172.0), HTML(value='')))"
      ]
     },
     "metadata": {},
     "output_type": "display_data"
    },
    {
     "name": "stdout",
     "output_type": "stream",
     "text": [
      "\n",
      "Correlations: [0.5698 0.4298]\n"
     ]
    },
    {
     "data": {
      "image/png": "[encoded data removed]",
      "text/plain": [
       "<Figure size 864x360 with 2 Axes>"
      ]
     },
     "metadata": {
      "needs_background": "light"
     },
     "output_type": "display_data"
    },
    {
     "name": "stdout",
     "output_type": "stream",
     "text": [
      "\n"
     ]
    }
   ],
   "source": [
    "labels_old = Z_initial\n",
    "models = []\n",
    "scores = []\n",
    "for i in tqdm_notebook(range(5), total=5):\n",
    "    model, predictions = M_step(matrix, Z)\n",
    "    local_weights = model.coef_\n",
    "    mean_vector = model.coef_[player_indices].mean()\n",
    "\n",
    "    test_correlations = estimate_tournaments_v2(test_keys, local_weights, np.mean)\n",
    "    print('Correlations:', np.abs(test_correlations)) # Spearmen and Kendall\n",
    "    \n",
    "    models.append(model)\n",
    "    scores.append(test_correlations)\n",
    "\n",
    "    Z_new = E_step(Z, predictions) \n",
    "    labels = sigmoid(np.clip(Z_new, -10, 6.5))\n",
    "\n",
    "\n",
    "    fig, axs = plt.subplots(1, 2, figsize=(12,5))\n",
    "    for ax, arr, title in zip(axs, [labels_old, labels], ['Old labels', 'New labels']):\n",
    "        pd.Series(arr).hist(ax=ax, bins=25)\n",
    "        ax.set(title=title)\n",
    "    plt.show()\n",
    "    labels_old = labels\n",
    "    Z = Z_new"
   ]
  },
  {
   "cell_type": "code",
   "execution_count": null,
   "metadata": {},
   "outputs": [],
   "source": []
  }
 ],
 "metadata": {
  "kernelspec": {
   "display_name": "Python 3",
   "language": "python",
   "name": "python3"
  },
  "language_info": {
   "codemirror_mode": {
    "name": "ipython",
    "version": 3
   },
   "file_extension": ".py",
   "mimetype": "text/x-python",
   "name": "python",
   "nbconvert_exporter": "python",
   "pygments_lexer": "ipython3",
   "version": "3.8.3"
  }
 },
 "nbformat": 4,
 "nbformat_minor": 5
}
